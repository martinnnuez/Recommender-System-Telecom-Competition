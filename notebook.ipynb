{
 "cells": [
  {
   "cell_type": "markdown",
   "id": "74976681",
   "metadata": {},
   "source": [
    "# Recomender system"
   ]
  },
  {
   "cell_type": "code",
   "execution_count": 1,
   "id": "ce5287b6",
   "metadata": {},
   "outputs": [],
   "source": [
    "# Imports\n",
    "import pandas as pd\n",
    "import numpy as np\n",
    "np.random.seed(42)\n",
    "from scipy.sparse import csr_matrix\n",
    "from lightfm import LightFM\n",
    "from tqdm import tqdm\n",
    "import joblib\n",
    "from joblib import dump, load\n",
    "from lightfm.data import Dataset\n",
    "from collections import Counter\n",
    "from sklearn.feature_extraction import DictVectorizer\n",
    "from sklearn.ensemble import RandomForestClassifier\n",
    "import random\n",
    "import matplotlib.pyplot as plt\n",
    "import seaborn as sns\n",
    "\n",
    "data = pd.read_csv('train.csv')\n",
    "metadata = pd.read_csv('metadata.csv', sep=\";\")"
   ]
  },
  {
   "cell_type": "code",
   "execution_count": 2,
   "id": "04d6188e",
   "metadata": {
    "scrolled": false
   },
   "outputs": [
    {
     "data": {
      "text/html": [
       "<div>\n",
       "<style scoped>\n",
       "    .dataframe tbody tr th:only-of-type {\n",
       "        vertical-align: middle;\n",
       "    }\n",
       "\n",
       "    .dataframe tbody tr th {\n",
       "        vertical-align: top;\n",
       "    }\n",
       "\n",
       "    .dataframe thead th {\n",
       "        text-align: right;\n",
       "    }\n",
       "</style>\n",
       "<table border=\"1\" class=\"dataframe\">\n",
       "  <thead>\n",
       "    <tr style=\"text-align: right;\">\n",
       "      <th></th>\n",
       "      <th>customer_id</th>\n",
       "      <th>account_id</th>\n",
       "      <th>device_type</th>\n",
       "      <th>asset_id</th>\n",
       "      <th>tunein</th>\n",
       "      <th>tuneout</th>\n",
       "      <th>resume</th>\n",
       "    </tr>\n",
       "  </thead>\n",
       "  <tbody>\n",
       "    <tr>\n",
       "      <th>0</th>\n",
       "      <td>0</td>\n",
       "      <td>90627</td>\n",
       "      <td>STATIONARY</td>\n",
       "      <td>18332.0</td>\n",
       "      <td>2021-02-18 22:52:00.0</td>\n",
       "      <td>2021-02-18 23:35:00.0</td>\n",
       "      <td>0</td>\n",
       "    </tr>\n",
       "    <tr>\n",
       "      <th>1</th>\n",
       "      <td>0</td>\n",
       "      <td>90627</td>\n",
       "      <td>STATIONARY</td>\n",
       "      <td>24727.0</td>\n",
       "      <td>2021-03-24 23:17:00.0</td>\n",
       "      <td>2021-03-25 00:01:00.0</td>\n",
       "      <td>0</td>\n",
       "    </tr>\n",
       "    <tr>\n",
       "      <th>2</th>\n",
       "      <td>1</td>\n",
       "      <td>3387</td>\n",
       "      <td>STB</td>\n",
       "      <td>895.0</td>\n",
       "      <td>2021-03-15 10:05:00.0</td>\n",
       "      <td>2021-03-15 10:23:00.0</td>\n",
       "      <td>0</td>\n",
       "    </tr>\n",
       "    <tr>\n",
       "      <th>3</th>\n",
       "      <td>1</td>\n",
       "      <td>3387</td>\n",
       "      <td>STB</td>\n",
       "      <td>895.0</td>\n",
       "      <td>2021-03-15 10:23:00.0</td>\n",
       "      <td>2021-03-15 11:18:00.0</td>\n",
       "      <td>1</td>\n",
       "    </tr>\n",
       "    <tr>\n",
       "      <th>4</th>\n",
       "      <td>1</td>\n",
       "      <td>3387</td>\n",
       "      <td>STB</td>\n",
       "      <td>26062.0</td>\n",
       "      <td>2021-03-16 09:24:00.0</td>\n",
       "      <td>2021-03-16 09:44:00.0</td>\n",
       "      <td>0</td>\n",
       "    </tr>\n",
       "  </tbody>\n",
       "</table>\n",
       "</div>"
      ],
      "text/plain": [
       "   customer_id  account_id device_type  asset_id                 tunein  \\\n",
       "0            0       90627  STATIONARY   18332.0  2021-02-18 22:52:00.0   \n",
       "1            0       90627  STATIONARY   24727.0  2021-03-24 23:17:00.0   \n",
       "2            1        3387         STB     895.0  2021-03-15 10:05:00.0   \n",
       "3            1        3387         STB     895.0  2021-03-15 10:23:00.0   \n",
       "4            1        3387         STB   26062.0  2021-03-16 09:24:00.0   \n",
       "\n",
       "                 tuneout  resume  \n",
       "0  2021-02-18 23:35:00.0       0  \n",
       "1  2021-03-25 00:01:00.0       0  \n",
       "2  2021-03-15 10:23:00.0       0  \n",
       "3  2021-03-15 11:18:00.0       1  \n",
       "4  2021-03-16 09:44:00.0       0  "
      ]
     },
     "execution_count": 2,
     "metadata": {},
     "output_type": "execute_result"
    }
   ],
   "source": [
    "# Dataset\n",
    "data.head()"
   ]
  },
  {
   "cell_type": "code",
   "execution_count": 3,
   "id": "9a8c150a",
   "metadata": {
    "scrolled": false
   },
   "outputs": [
    {
     "data": {
      "text/plain": [
       "(3657801, 7)"
      ]
     },
     "execution_count": 3,
     "metadata": {},
     "output_type": "execute_result"
    }
   ],
   "source": [
    "data.shape"
   ]
  },
  {
   "cell_type": "code",
   "execution_count": 4,
   "id": "c7804248",
   "metadata": {},
   "outputs": [
    {
     "data": {
      "text/plain": [
       "customer_id    0.000000\n",
       "account_id     0.000000\n",
       "device_type    0.000008\n",
       "asset_id       0.000006\n",
       "tunein         0.000000\n",
       "tuneout        0.000000\n",
       "resume         0.000000\n",
       "dtype: float64"
      ]
     },
     "execution_count": 4,
     "metadata": {},
     "output_type": "execute_result"
    }
   ],
   "source": [
    "data.isna().sum() / data.shape[0]"
   ]
  },
  {
   "cell_type": "markdown",
   "id": "54fd41f0",
   "metadata": {},
   "source": [
    "    There is missing data in the variable asset_id, this data has no information because we do not know which content was the user watching to. Due to this fact we are going to drop the rows that have missing values. "
   ]
  },
  {
   "cell_type": "code",
   "execution_count": 34,
   "id": "dca23329",
   "metadata": {},
   "outputs": [],
   "source": [
    "data = data[data['asset_id'].notna()]"
   ]
  },
  {
   "cell_type": "code",
   "execution_count": 184,
   "id": "1d42282e",
   "metadata": {
    "scrolled": false
   },
   "outputs": [
    {
     "data": {
      "text/html": [
       "<div>\n",
       "<style scoped>\n",
       "    .dataframe tbody tr th:only-of-type {\n",
       "        vertical-align: middle;\n",
       "    }\n",
       "\n",
       "    .dataframe tbody tr th {\n",
       "        vertical-align: top;\n",
       "    }\n",
       "\n",
       "    .dataframe thead th {\n",
       "        text-align: right;\n",
       "    }\n",
       "</style>\n",
       "<table border=\"1\" class=\"dataframe\">\n",
       "  <thead>\n",
       "    <tr style=\"text-align: right;\">\n",
       "      <th></th>\n",
       "      <th>asset_id</th>\n",
       "      <th>content_id</th>\n",
       "      <th>title</th>\n",
       "      <th>reduced_title</th>\n",
       "      <th>episode_title</th>\n",
       "      <th>show_type</th>\n",
       "      <th>released_year</th>\n",
       "      <th>country_of_origin</th>\n",
       "      <th>category</th>\n",
       "      <th>keywords</th>\n",
       "      <th>...</th>\n",
       "      <th>language_rating</th>\n",
       "      <th>dialog_rating</th>\n",
       "      <th>fv_rating</th>\n",
       "      <th>pay_per_view</th>\n",
       "      <th>pack_premium_1</th>\n",
       "      <th>pack_premium_2</th>\n",
       "      <th>create_date</th>\n",
       "      <th>modify_date</th>\n",
       "      <th>start_vod_date</th>\n",
       "      <th>end_vod_date</th>\n",
       "    </tr>\n",
       "  </thead>\n",
       "  <tbody>\n",
       "    <tr>\n",
       "      <th>0</th>\n",
       "      <td>15188</td>\n",
       "      <td>0.0</td>\n",
       "      <td>Ep:17 Tiempos Compulsivos</td>\n",
       "      <td>Tiempos_Compul_E17</td>\n",
       "      <td>Episodio 17</td>\n",
       "      <td>Serie</td>\n",
       "      <td>2012.0</td>\n",
       "      <td>AR</td>\n",
       "      <td>Drama</td>\n",
       "      <td>Trastornos,Médicos,Tragicómica,Telenovela,Enfe...</td>\n",
       "      <td>...</td>\n",
       "      <td>N</td>\n",
       "      <td>N</td>\n",
       "      <td>N</td>\n",
       "      <td>N</td>\n",
       "      <td>N</td>\n",
       "      <td>N</td>\n",
       "      <td>2017-12-01T10:18:15.0Z</td>\n",
       "      <td>2019-01-26T06:37:18.0Z</td>\n",
       "      <td>2017-12-01T00:00:00.0Z</td>\n",
       "      <td>2020-12-01T23:59:59.0Z</td>\n",
       "    </tr>\n",
       "    <tr>\n",
       "      <th>1</th>\n",
       "      <td>24940</td>\n",
       "      <td>1.0</td>\n",
       "      <td>7 Cajas</td>\n",
       "      <td>7_Cajas</td>\n",
       "      <td>NaN</td>\n",
       "      <td>Película</td>\n",
       "      <td>2012.0</td>\n",
       "      <td>PY</td>\n",
       "      <td>Suspenso/Acción</td>\n",
       "      <td>Latinoamérica,Pobreza,Crimen,Pandillas</td>\n",
       "      <td>...</td>\n",
       "      <td>N</td>\n",
       "      <td>N</td>\n",
       "      <td>N</td>\n",
       "      <td>Y</td>\n",
       "      <td>N</td>\n",
       "      <td>N</td>\n",
       "      <td>2017-12-19T20:58:15.0Z</td>\n",
       "      <td>2019-09-17T19:02:03.0Z</td>\n",
       "      <td>2017-12-15T00:00:00.0Z</td>\n",
       "      <td>2022-12-14T23:59:59.0Z</td>\n",
       "    </tr>\n",
       "    <tr>\n",
       "      <th>2</th>\n",
       "      <td>21939</td>\n",
       "      <td>2.0</td>\n",
       "      <td>La Maldición de las Hormigas Gigantes</td>\n",
       "      <td>La_Maldicion_de_las</td>\n",
       "      <td>NaN</td>\n",
       "      <td>Película</td>\n",
       "      <td>2016.0</td>\n",
       "      <td>FI</td>\n",
       "      <td>Terror/Comedia</td>\n",
       "      <td>Criaturas,Plagas,Adolescentes,Fantasía,Video J...</td>\n",
       "      <td>...</td>\n",
       "      <td>N</td>\n",
       "      <td>N</td>\n",
       "      <td>N</td>\n",
       "      <td>N</td>\n",
       "      <td>N</td>\n",
       "      <td>N</td>\n",
       "      <td>2018-02-16T13:51:07.0Z</td>\n",
       "      <td>2020-04-28T14:16:38.0Z</td>\n",
       "      <td>2018-01-25T00:00:00.0Z</td>\n",
       "      <td>2020-12-01T23:59:59.0Z</td>\n",
       "    </tr>\n",
       "    <tr>\n",
       "      <th>3</th>\n",
       "      <td>9005</td>\n",
       "      <td>3.0</td>\n",
       "      <td>Una Mujer Fantástica</td>\n",
       "      <td>Una_Mujer_Fantastic</td>\n",
       "      <td>NaN</td>\n",
       "      <td>Película</td>\n",
       "      <td>2017.0</td>\n",
       "      <td>CL</td>\n",
       "      <td>Drama</td>\n",
       "      <td>LGBT,Mujeres,Latinoamérica</td>\n",
       "      <td>...</td>\n",
       "      <td>N</td>\n",
       "      <td>N</td>\n",
       "      <td>N</td>\n",
       "      <td>N</td>\n",
       "      <td>Y</td>\n",
       "      <td>N</td>\n",
       "      <td>2018-05-26T11:58:44.0Z</td>\n",
       "      <td>2019-11-15T03:00:23.0Z</td>\n",
       "      <td>2018-05-27T00:00:00.0Z</td>\n",
       "      <td>2021-04-30T23:59:59.0Z</td>\n",
       "    </tr>\n",
       "    <tr>\n",
       "      <th>4</th>\n",
       "      <td>7391</td>\n",
       "      <td>4.0</td>\n",
       "      <td>Star Trek</td>\n",
       "      <td>Star_Trek</td>\n",
       "      <td>NaN</td>\n",
       "      <td>Película</td>\n",
       "      <td>2009.0</td>\n",
       "      <td>US</td>\n",
       "      <td>Ciencia Ficción/Aventura</td>\n",
       "      <td>Fantasía,Galaxia,Futurismo,Aliens,Criaturas</td>\n",
       "      <td>...</td>\n",
       "      <td>N</td>\n",
       "      <td>N</td>\n",
       "      <td>N</td>\n",
       "      <td>Y</td>\n",
       "      <td>N</td>\n",
       "      <td>N</td>\n",
       "      <td>2019-05-03T20:07:24.0Z</td>\n",
       "      <td>2020-04-09T04:37:29.0Z</td>\n",
       "      <td>2019-05-02T00:00:00.0Z</td>\n",
       "      <td>2020-12-31T23:59:59.0Z</td>\n",
       "    </tr>\n",
       "  </tbody>\n",
       "</table>\n",
       "<p>5 rows × 30 columns</p>\n",
       "</div>"
      ],
      "text/plain": [
       "   asset_id  content_id                                  title  \\\n",
       "0     15188         0.0              Ep:17 Tiempos Compulsivos   \n",
       "1     24940         1.0                                7 Cajas   \n",
       "2     21939         2.0  La Maldición de las Hormigas Gigantes   \n",
       "3      9005         3.0                   Una Mujer Fantástica   \n",
       "4      7391         4.0                              Star Trek   \n",
       "\n",
       "         reduced_title episode_title show_type  released_year  \\\n",
       "0   Tiempos_Compul_E17   Episodio 17     Serie         2012.0   \n",
       "1              7_Cajas           NaN  Película         2012.0   \n",
       "2  La_Maldicion_de_las           NaN  Película         2016.0   \n",
       "3  Una_Mujer_Fantastic           NaN  Película         2017.0   \n",
       "4            Star_Trek           NaN  Película         2009.0   \n",
       "\n",
       "  country_of_origin                  category  \\\n",
       "0                AR                     Drama   \n",
       "1                PY           Suspenso/Acción   \n",
       "2                FI            Terror/Comedia   \n",
       "3                CL                     Drama   \n",
       "4                US  Ciencia Ficción/Aventura   \n",
       "\n",
       "                                            keywords  ... language_rating  \\\n",
       "0  Trastornos,Médicos,Tragicómica,Telenovela,Enfe...  ...               N   \n",
       "1             Latinoamérica,Pobreza,Crimen,Pandillas  ...               N   \n",
       "2  Criaturas,Plagas,Adolescentes,Fantasía,Video J...  ...               N   \n",
       "3                         LGBT,Mujeres,Latinoamérica  ...               N   \n",
       "4        Fantasía,Galaxia,Futurismo,Aliens,Criaturas  ...               N   \n",
       "\n",
       "  dialog_rating fv_rating pay_per_view  pack_premium_1 pack_premium_2  \\\n",
       "0             N         N            N               N              N   \n",
       "1             N         N            Y               N              N   \n",
       "2             N         N            N               N              N   \n",
       "3             N         N            N               Y              N   \n",
       "4             N         N            Y               N              N   \n",
       "\n",
       "              create_date             modify_date          start_vod_date  \\\n",
       "0  2017-12-01T10:18:15.0Z  2019-01-26T06:37:18.0Z  2017-12-01T00:00:00.0Z   \n",
       "1  2017-12-19T20:58:15.0Z  2019-09-17T19:02:03.0Z  2017-12-15T00:00:00.0Z   \n",
       "2  2018-02-16T13:51:07.0Z  2020-04-28T14:16:38.0Z  2018-01-25T00:00:00.0Z   \n",
       "3  2018-05-26T11:58:44.0Z  2019-11-15T03:00:23.0Z  2018-05-27T00:00:00.0Z   \n",
       "4  2019-05-03T20:07:24.0Z  2020-04-09T04:37:29.0Z  2019-05-02T00:00:00.0Z   \n",
       "\n",
       "             end_vod_date  \n",
       "0  2020-12-01T23:59:59.0Z  \n",
       "1  2022-12-14T23:59:59.0Z  \n",
       "2  2020-12-01T23:59:59.0Z  \n",
       "3  2021-04-30T23:59:59.0Z  \n",
       "4  2020-12-31T23:59:59.0Z  \n",
       "\n",
       "[5 rows x 30 columns]"
      ]
     },
     "execution_count": 184,
     "metadata": {},
     "output_type": "execute_result"
    }
   ],
   "source": [
    "# Metadata\n",
    "metadata.head()"
   ]
  },
  {
   "cell_type": "code",
   "execution_count": 6,
   "id": "64a166c5",
   "metadata": {
    "scrolled": true
   },
   "outputs": [
    {
     "data": {
      "text/plain": [
       "asset_id              0.000000\n",
       "content_id            0.000634\n",
       "title                 0.000000\n",
       "reduced_title         0.000000\n",
       "episode_title         0.125121\n",
       "show_type             0.000121\n",
       "released_year         0.000000\n",
       "country_of_origin     0.000121\n",
       "category              0.000000\n",
       "keywords              0.000060\n",
       "description           0.000060\n",
       "reduced_desc          0.000000\n",
       "cast_first_name       0.263456\n",
       "credits_first_name    0.378771\n",
       "run_time_min          0.000000\n",
       "audience              0.000030\n",
       "made_for_tv           0.000000\n",
       "close_caption         0.000000\n",
       "sex_rating            0.000000\n",
       "violence_rating       0.000000\n",
       "language_rating       0.000000\n",
       "dialog_rating         0.000000\n",
       "fv_rating             0.000000\n",
       "pay_per_view          0.000000\n",
       "pack_premium_1        0.000000\n",
       "pack_premium_2        0.000000\n",
       "create_date           0.000000\n",
       "modify_date           0.000000\n",
       "start_vod_date        0.000000\n",
       "end_vod_date          0.000000\n",
       "dtype: float64"
      ]
     },
     "execution_count": 6,
     "metadata": {},
     "output_type": "execute_result"
    }
   ],
   "source": [
    "metadata.isna().sum() / metadata.shape[0]"
   ]
  },
  {
   "cell_type": "markdown",
   "id": "31d5490a",
   "metadata": {},
   "source": [
    "    Drop the values in the metadata frame that contet_id has no values. "
   ]
  },
  {
   "cell_type": "code",
   "execution_count": 35,
   "id": "e6d3559c",
   "metadata": {},
   "outputs": [],
   "source": [
    "metadata = metadata[metadata['content_id'].notna()]"
   ]
  },
  {
   "cell_type": "markdown",
   "id": "afbc54d5",
   "metadata": {},
   "source": [
    "# Create ratings \n",
    "\n",
    "    As there are no ratings in the dataset I derive them from the time the user spend watching the program and the kind of program it was watching, for kind of program I mean if is a movie or a series. "
   ]
  },
  {
   "cell_type": "code",
   "execution_count": 36,
   "id": "60a16e88",
   "metadata": {},
   "outputs": [
    {
     "name": "stderr",
     "output_type": "stream",
     "text": [
      "C:\\Users\\marti\\AppData\\Local\\Temp\\ipykernel_11756\\3418632120.py:19: SettingWithCopyWarning: \n",
      "A value is trying to be set on a copy of a slice from a DataFrame.\n",
      "Try using .loc[row_indexer,col_indexer] = value instead\n",
      "\n",
      "See the caveats in the documentation: https://pandas.pydata.org/pandas-docs/stable/user_guide/indexing.html#returning-a-view-versus-a-copy\n",
      "  complete_red[\"real_time\"] = np.where(complete_red[\"time_dif_min\"]>complete_red[\"run_time_min\"],complete_red[\"run_time_min\"], complete_red[\"time_dif_min\"])\n"
     ]
    }
   ],
   "source": [
    "# Transform to datetime\n",
    "data[\"tuneout\"]  = pd.to_datetime(data[\"tuneout\"] )\n",
    "data[\"tunein\"]  = pd.to_datetime(data[\"tunein\"] )\n",
    "\n",
    "# Calculate delta time\n",
    "data[\"time_dif\"] = data[\"tuneout\"] - data[\"tunein\"]\n",
    "\n",
    "# Deltatime to minutes\n",
    "data[\"time_dif_sec\"] = data[\"time_dif\"].apply(lambda x: x.total_seconds())\n",
    "data[\"time_dif_min\"] = (data[\"time_dif_sec\"]/60)\n",
    "\n",
    "# Create the complete database merging both frames\n",
    "complete = data.merge(metadata, how=\"left\", left_on=\"asset_id\", right_on=\"asset_id\")\n",
    "\n",
    "# Reduce the complete dataframe in order to work to create the ratings.\n",
    "complete_red=complete[[\"account_id\",\"content_id\",\"time_dif_min\",\"run_time_min\"]]\n",
    "\n",
    "# Where the time watched is bigger than total time, replace total time (because the session was still open after ending the movie)\n",
    "complete_red[\"real_time\"] = np.where(complete_red[\"time_dif_min\"]>complete_red[\"run_time_min\"],complete_red[\"run_time_min\"], complete_red[\"time_dif_min\"])\n",
    "\n",
    "ratings=complete_red.groupby([\"account_id\", \"content_id\"]).agg(\n",
    "    episodes = pd.NamedAgg(column=\"content_id\", aggfunc=\"count\"),\n",
    "    total_time = pd.NamedAgg(column=\"run_time_min\", aggfunc=\"sum\"),\n",
    "    view = pd.NamedAgg(column=\"real_time\", aggfunc=\"sum\")\n",
    ")\n",
    "\n",
    "# Calculate the rating of visualization\n",
    "ratings[\"rating\"] = ratings[\"view\"]/ratings[\"total_time\"]"
   ]
  },
  {
   "cell_type": "markdown",
   "id": "89c51947",
   "metadata": {},
   "source": [
    "### Weighting the amount of time each user watch: \n",
    "* If the total time is less than 60 minutes, then it is a series, if you saw only one chapter penalize. -0.3 to the rating. \n",
    "* If he saw more than two chapters, he caught it a lot, put the rating at 1."
   ]
  },
  {
   "cell_type": "code",
   "execution_count": 37,
   "id": "8c06ee9c",
   "metadata": {},
   "outputs": [],
   "source": [
    "ratings['rating_pond'] = np.where(\n",
    "   (ratings['total_time']<=60) & (ratings['episodes'] == 1) , (ratings[\"rating\"]-0.3), ratings[\"rating\"]\n",
    "   )\n",
    "\n",
    "ratings['rating_pond'] = np.where(\n",
    "    (ratings['episodes'] > 2) , 1, ratings[\"rating_pond\"]\n",
    "   )"
   ]
  },
  {
   "cell_type": "code",
   "execution_count": 38,
   "id": "8494a220",
   "metadata": {
    "scrolled": true
   },
   "outputs": [],
   "source": [
    "# Create the complete database merging both frames\n",
    "complete = complete.merge(ratings[\"rating_pond\"], how=\"left\", left_on=[\"content_id\",\"account_id\"], right_on=[\"content_id\",\"account_id\"])"
   ]
  },
  {
   "cell_type": "markdown",
   "id": "43626f6a",
   "metadata": {},
   "source": [
    "Here we remove the movies that are going to be removed before the prediction date and those that are released after the recommendation date"
   ]
  },
  {
   "cell_type": "code",
   "execution_count": 39,
   "id": "380bf75d",
   "metadata": {},
   "outputs": [],
   "source": [
    "complete['start_date'] = pd.to_datetime(complete['start_vod_date'])\n",
    "# print(format(complete['start_date']))\n",
    "complete['end_date'] = pd.to_datetime(complete['end_vod_date'])\n",
    "# print(format(complete['end_date']))\n",
    "complete = complete[(complete['start_date'] <= '2021-03-01 00:00:00+00:00') & (complete['end_date'] >= '2021-03-01 23:59:59+00:00') ]"
   ]
  },
  {
   "cell_type": "markdown",
   "id": "ba69903e",
   "metadata": {},
   "source": [
    "# Exploratory Data Analysis"
   ]
  },
  {
   "cell_type": "code",
   "execution_count": 59,
   "id": "38939b4b",
   "metadata": {},
   "outputs": [],
   "source": [
    "# Only run it for doing exploratory data analisys, drop it for modelling.\n",
    "complete[\"ones\"] = 1"
   ]
  },
  {
   "cell_type": "markdown",
   "id": "6c5ee54d",
   "metadata": {},
   "source": [
    "### Device type"
   ]
  },
  {
   "cell_type": "code",
   "execution_count": 28,
   "id": "86883897",
   "metadata": {},
   "outputs": [
    {
     "data": {
      "image/png": "[encoded data removed]",
      "text/plain": [
       "<Figure size 1080x576 with 1 Axes>"
      ]
     },
     "metadata": {
      "needs_background": "light"
     },
     "output_type": "display_data"
    }
   ],
   "source": [
    "plt.figure(figsize=(15,8))\n",
    "sns.countplot(x='device_type', data=complete,\n",
    "             order = complete['device_type'].value_counts().index).set(title='Device type')\n",
    "plt.show();"
   ]
  },
  {
   "cell_type": "code",
   "execution_count": 46,
   "id": "2d63c96c",
   "metadata": {
    "scrolled": false
   },
   "outputs": [
    {
     "data": {
      "text/html": [
       "<div>\n",
       "<style scoped>\n",
       "    .dataframe tbody tr th:only-of-type {\n",
       "        vertical-align: middle;\n",
       "    }\n",
       "\n",
       "    .dataframe tbody tr th {\n",
       "        vertical-align: top;\n",
       "    }\n",
       "\n",
       "    .dataframe thead th {\n",
       "        text-align: right;\n",
       "    }\n",
       "</style>\n",
       "<table border=\"1\" class=\"dataframe\">\n",
       "  <thead>\n",
       "    <tr style=\"text-align: right;\">\n",
       "      <th></th>\n",
       "      <th>Device</th>\n",
       "      <th>Rating</th>\n",
       "      <th>Count</th>\n",
       "    </tr>\n",
       "  </thead>\n",
       "  <tbody>\n",
       "    <tr>\n",
       "      <th>0</th>\n",
       "      <td>CLOUD_CLIENT</td>\n",
       "      <td>0.435604</td>\n",
       "      <td>8254</td>\n",
       "    </tr>\n",
       "    <tr>\n",
       "      <th>3</th>\n",
       "      <td>STB</td>\n",
       "      <td>0.434334</td>\n",
       "      <td>14836</td>\n",
       "    </tr>\n",
       "    <tr>\n",
       "      <th>2</th>\n",
       "      <td>STATIONARY</td>\n",
       "      <td>0.419919</td>\n",
       "      <td>7521</td>\n",
       "    </tr>\n",
       "    <tr>\n",
       "      <th>1</th>\n",
       "      <td>PHONE</td>\n",
       "      <td>0.378598</td>\n",
       "      <td>7150</td>\n",
       "    </tr>\n",
       "    <tr>\n",
       "      <th>4</th>\n",
       "      <td>TABLET</td>\n",
       "      <td>0.353276</td>\n",
       "      <td>3037</td>\n",
       "    </tr>\n",
       "  </tbody>\n",
       "</table>\n",
       "</div>"
      ],
      "text/plain": [
       "         Device    Rating  Count\n",
       "0  CLOUD_CLIENT  0.435604   8254\n",
       "3           STB  0.434334  14836\n",
       "2    STATIONARY  0.419919   7521\n",
       "1         PHONE  0.378598   7150\n",
       "4        TABLET  0.353276   3037"
      ]
     },
     "metadata": {},
     "output_type": "display_data"
    }
   ],
   "source": [
    "exp=complete[['device_type','rating_pond','ones']].drop_duplicates()\n",
    "exp=exp.groupby('device_type', as_index=False).agg({'rating_pond': \"mean\", 'ones':\"count\"}).sort_values(by='rating_pond',ascending=False)\n",
    "exp.columns=[\"Device\", \"Rating\",\"Count\"]\n",
    "display(exp.head())"
   ]
  },
  {
   "cell_type": "markdown",
   "id": "ebaae74a",
   "metadata": {},
   "source": [
    "    We can appreciate the same amount of rating in the different devices.\n",
    "    And that the majority of the people watch the content by STB that is the flow decoder."
   ]
  },
  {
   "cell_type": "markdown",
   "id": "0cb1ca84",
   "metadata": {},
   "source": [
    "### Country of origin"
   ]
  },
  {
   "cell_type": "code",
   "execution_count": 27,
   "id": "82faf31c",
   "metadata": {},
   "outputs": [
    {
     "data": {
      "image/png": "[encoded data removed]",
      "text/plain": [
       "<Figure size 1080x576 with 1 Axes>"
      ]
     },
     "metadata": {
      "needs_background": "light"
     },
     "output_type": "display_data"
    }
   ],
   "source": [
    "plt.figure(figsize=(15,8))\n",
    "sns.countplot(x='country_of_origin', data=complete,\n",
    "             order = complete['country_of_origin'].value_counts().index).set(title='Country')\n",
    "plt.show();"
   ]
  },
  {
   "cell_type": "code",
   "execution_count": 47,
   "id": "6e7c0e36",
   "metadata": {
    "scrolled": true
   },
   "outputs": [
    {
     "data": {
      "text/html": [
       "<div>\n",
       "<style scoped>\n",
       "    .dataframe tbody tr th:only-of-type {\n",
       "        vertical-align: middle;\n",
       "    }\n",
       "\n",
       "    .dataframe tbody tr th {\n",
       "        vertical-align: top;\n",
       "    }\n",
       "\n",
       "    .dataframe thead th {\n",
       "        text-align: right;\n",
       "    }\n",
       "</style>\n",
       "<table border=\"1\" class=\"dataframe\">\n",
       "  <thead>\n",
       "    <tr style=\"text-align: right;\">\n",
       "      <th></th>\n",
       "      <th>Country</th>\n",
       "      <th>Rating</th>\n",
       "      <th>Count</th>\n",
       "    </tr>\n",
       "  </thead>\n",
       "  <tbody>\n",
       "    <tr>\n",
       "      <th>49</th>\n",
       "      <td>US</td>\n",
       "      <td>0.430173</td>\n",
       "      <td>13597</td>\n",
       "    </tr>\n",
       "    <tr>\n",
       "      <th>0</th>\n",
       "      <td>AR</td>\n",
       "      <td>0.423231</td>\n",
       "      <td>7926</td>\n",
       "    </tr>\n",
       "    <tr>\n",
       "      <th>20</th>\n",
       "      <td>GB</td>\n",
       "      <td>0.412772</td>\n",
       "      <td>7382</td>\n",
       "    </tr>\n",
       "    <tr>\n",
       "      <th>16</th>\n",
       "      <td>ES</td>\n",
       "      <td>0.400275</td>\n",
       "      <td>5134</td>\n",
       "    </tr>\n",
       "    <tr>\n",
       "      <th>28</th>\n",
       "      <td>IT</td>\n",
       "      <td>0.381055</td>\n",
       "      <td>2861</td>\n",
       "    </tr>\n",
       "  </tbody>\n",
       "</table>\n",
       "</div>"
      ],
      "text/plain": [
       "   Country    Rating  Count\n",
       "49      US  0.430173  13597\n",
       "0       AR  0.423231   7926\n",
       "20      GB  0.412772   7382\n",
       "16      ES  0.400275   5134\n",
       "28      IT  0.381055   2861"
      ]
     },
     "metadata": {},
     "output_type": "display_data"
    }
   ],
   "source": [
    "variable = 'country_of_origin'\n",
    "variable_name = \"Country\"\n",
    "exp=complete[[variable,'rating_pond','ones']].drop_duplicates()\n",
    "exp=exp.groupby(variable, as_index=False).agg({'rating_pond': \"mean\", 'ones':\"count\"}).sort_values(by='ones',ascending=False)\n",
    "exp.columns=[variable_name, \"Rating\",\"Count\"]\n",
    "display(exp.head(5))"
   ]
  },
  {
   "cell_type": "markdown",
   "id": "86915056",
   "metadata": {},
   "source": [
    "    Most watched movies are from United states and from Argentina, this is related to the fact that the database belongs to a company from this county. Is it remarkable that even though is it a database form Argentina, content from United States is the most watched. \n",
    "    The content with the bigger mean ratings have very few samples, only one good movie could have increased the rating through big values. "
   ]
  },
  {
   "cell_type": "markdown",
   "id": "c4373a39",
   "metadata": {},
   "source": [
    "### Category"
   ]
  },
  {
   "cell_type": "code",
   "execution_count": 48,
   "id": "4e18e22d",
   "metadata": {},
   "outputs": [
    {
     "data": {
      "text/html": [
       "<div>\n",
       "<style scoped>\n",
       "    .dataframe tbody tr th:only-of-type {\n",
       "        vertical-align: middle;\n",
       "    }\n",
       "\n",
       "    .dataframe tbody tr th {\n",
       "        vertical-align: top;\n",
       "    }\n",
       "\n",
       "    .dataframe thead th {\n",
       "        text-align: right;\n",
       "    }\n",
       "</style>\n",
       "<table border=\"1\" class=\"dataframe\">\n",
       "  <thead>\n",
       "    <tr style=\"text-align: right;\">\n",
       "      <th></th>\n",
       "      <th>Category</th>\n",
       "      <th>Rating</th>\n",
       "      <th>Count</th>\n",
       "    </tr>\n",
       "  </thead>\n",
       "  <tbody>\n",
       "    <tr>\n",
       "      <th>92</th>\n",
       "      <td>Drama</td>\n",
       "      <td>0.411090</td>\n",
       "      <td>7482</td>\n",
       "    </tr>\n",
       "    <tr>\n",
       "      <th>111</th>\n",
       "      <td>Drama/Romance</td>\n",
       "      <td>0.392572</td>\n",
       "      <td>5429</td>\n",
       "    </tr>\n",
       "    <tr>\n",
       "      <th>112</th>\n",
       "      <td>Drama/Suspenso</td>\n",
       "      <td>0.402142</td>\n",
       "      <td>4674</td>\n",
       "    </tr>\n",
       "    <tr>\n",
       "      <th>100</th>\n",
       "      <td>Drama/Crimen</td>\n",
       "      <td>0.390347</td>\n",
       "      <td>4576</td>\n",
       "    </tr>\n",
       "    <tr>\n",
       "      <th>58</th>\n",
       "      <td>Comedia/Romance</td>\n",
       "      <td>0.417495</td>\n",
       "      <td>4464</td>\n",
       "    </tr>\n",
       "  </tbody>\n",
       "</table>\n",
       "</div>"
      ],
      "text/plain": [
       "            Category    Rating  Count\n",
       "92             Drama  0.411090   7482\n",
       "111    Drama/Romance  0.392572   5429\n",
       "112   Drama/Suspenso  0.402142   4674\n",
       "100     Drama/Crimen  0.390347   4576\n",
       "58   Comedia/Romance  0.417495   4464"
      ]
     },
     "metadata": {},
     "output_type": "display_data"
    }
   ],
   "source": [
    "variable = 'category'\n",
    "variable_name = \"Category\"\n",
    "exp=complete[[variable,'rating_pond','ones']].drop_duplicates()\n",
    "exp=exp.groupby(variable, as_index=False).agg({'rating_pond': \"mean\", 'ones':\"count\"}).sort_values(by= 'ones',ascending=False)\n",
    "exp.columns=[variable_name, \"Rating\",\"Count\"]\n",
    "display(exp.head(5))"
   ]
  },
  {
   "cell_type": "markdown",
   "id": "9332e4e9",
   "metadata": {},
   "source": [
    "    The most watched Category is the Drama, we can see in the table of the most watches categories this kind of movies in three different sub categories: Drama, Drama/Romance, Drama/Crimen and Drama/Suspenso. \n",
    "    After Drama the most watched categories are Comedia and Infantil/Animación."
   ]
  },
  {
   "cell_type": "markdown",
   "id": "7c3f9571",
   "metadata": {},
   "source": [
    "### Cast first name"
   ]
  },
  {
   "cell_type": "code",
   "execution_count": 49,
   "id": "1d58a814",
   "metadata": {
    "scrolled": true
   },
   "outputs": [
    {
     "data": {
      "text/html": [
       "<div>\n",
       "<style scoped>\n",
       "    .dataframe tbody tr th:only-of-type {\n",
       "        vertical-align: middle;\n",
       "    }\n",
       "\n",
       "    .dataframe tbody tr th {\n",
       "        vertical-align: top;\n",
       "    }\n",
       "\n",
       "    .dataframe thead th {\n",
       "        text-align: right;\n",
       "    }\n",
       "</style>\n",
       "<table border=\"1\" class=\"dataframe\">\n",
       "  <thead>\n",
       "    <tr style=\"text-align: right;\">\n",
       "      <th></th>\n",
       "      <th>Cast first name</th>\n",
       "      <th>Rating</th>\n",
       "      <th>Count</th>\n",
       "    </tr>\n",
       "  </thead>\n",
       "  <tbody>\n",
       "    <tr>\n",
       "      <th>3365</th>\n",
       "      <td>Santiago del Moro, Donato de Santis, Damián Be...</td>\n",
       "      <td>0.398205</td>\n",
       "      <td>947</td>\n",
       "    </tr>\n",
       "    <tr>\n",
       "      <th>923</th>\n",
       "      <td>Diego Armando Maradona</td>\n",
       "      <td>0.290271</td>\n",
       "      <td>596</td>\n",
       "    </tr>\n",
       "    <tr>\n",
       "      <th>1087</th>\n",
       "      <td>Emilia Clarke, Kit Harington, Peter Dinklage, ...</td>\n",
       "      <td>0.332348</td>\n",
       "      <td>448</td>\n",
       "    </tr>\n",
       "    <tr>\n",
       "      <th>2783</th>\n",
       "      <td>Milo Ventimiglia, Mandy Moore, , Chrissy Metz</td>\n",
       "      <td>0.393784</td>\n",
       "      <td>407</td>\n",
       "    </tr>\n",
       "    <tr>\n",
       "      <th>816</th>\n",
       "      <td>Daniel Radcliffe, Rupert Grint, Emma Watson, A...</td>\n",
       "      <td>0.445244</td>\n",
       "      <td>401</td>\n",
       "    </tr>\n",
       "  </tbody>\n",
       "</table>\n",
       "</div>"
      ],
      "text/plain": [
       "                                        Cast first name    Rating  Count\n",
       "3365  Santiago del Moro, Donato de Santis, Damián Be...  0.398205    947\n",
       "923                              Diego Armando Maradona  0.290271    596\n",
       "1087  Emilia Clarke, Kit Harington, Peter Dinklage, ...  0.332348    448\n",
       "2783      Milo Ventimiglia, Mandy Moore, , Chrissy Metz  0.393784    407\n",
       "816   Daniel Radcliffe, Rupert Grint, Emma Watson, A...  0.445244    401"
      ]
     },
     "metadata": {},
     "output_type": "display_data"
    }
   ],
   "source": [
    "variable = 'cast_first_name'\n",
    "variable_name = \"Cast first name\"\n",
    "exp=complete[[variable,'rating_pond','ones']].drop_duplicates()\n",
    "exp=exp.groupby(variable, as_index=False).agg({'rating_pond': \"mean\", 'ones':\"count\"}).sort_values(by= 'ones',ascending=False)\n",
    "exp.columns=[variable_name, \"Rating\",\"Count\"]\n",
    "display(exp.head(5))"
   ]
  },
  {
   "cell_type": "markdown",
   "id": "53e064a0",
   "metadata": {},
   "source": [
    "    Santiago del Moro, Donato de Santis, Damián Betular\tmost watched movies and very high rating."
   ]
  },
  {
   "cell_type": "markdown",
   "id": "32f3b3de",
   "metadata": {},
   "source": [
    "### Credits first name"
   ]
  },
  {
   "cell_type": "code",
   "execution_count": 50,
   "id": "6ab22aa2",
   "metadata": {
    "scrolled": true
   },
   "outputs": [
    {
     "data": {
      "text/html": [
       "<div>\n",
       "<style scoped>\n",
       "    .dataframe tbody tr th:only-of-type {\n",
       "        vertical-align: middle;\n",
       "    }\n",
       "\n",
       "    .dataframe tbody tr th {\n",
       "        vertical-align: top;\n",
       "    }\n",
       "\n",
       "    .dataframe thead th {\n",
       "        text-align: right;\n",
       "    }\n",
       "</style>\n",
       "<table border=\"1\" class=\"dataframe\">\n",
       "  <thead>\n",
       "    <tr style=\"text-align: right;\">\n",
       "      <th></th>\n",
       "      <th>Credits first name</th>\n",
       "      <th>Rating</th>\n",
       "      <th>Count</th>\n",
       "    </tr>\n",
       "  </thead>\n",
       "  <tbody>\n",
       "    <tr>\n",
       "      <th>2813</th>\n",
       "      <td>Steven Spielberg</td>\n",
       "      <td>0.377071</td>\n",
       "      <td>1272</td>\n",
       "    </tr>\n",
       "    <tr>\n",
       "      <th>622</th>\n",
       "      <td>Daniel Barone</td>\n",
       "      <td>0.339969</td>\n",
       "      <td>970</td>\n",
       "    </tr>\n",
       "    <tr>\n",
       "      <th>1683</th>\n",
       "      <td>Kenny Ortega</td>\n",
       "      <td>0.401842</td>\n",
       "      <td>889</td>\n",
       "    </tr>\n",
       "    <tr>\n",
       "      <th>741</th>\n",
       "      <td>David Yates</td>\n",
       "      <td>0.430886</td>\n",
       "      <td>888</td>\n",
       "    </tr>\n",
       "    <tr>\n",
       "      <th>2418</th>\n",
       "      <td>Quentin Tarantino</td>\n",
       "      <td>0.406373</td>\n",
       "      <td>885</td>\n",
       "    </tr>\n",
       "  </tbody>\n",
       "</table>\n",
       "</div>"
      ],
      "text/plain": [
       "     Credits first name    Rating  Count\n",
       "2813   Steven Spielberg  0.377071   1272\n",
       "622       Daniel Barone  0.339969    970\n",
       "1683       Kenny Ortega  0.401842    889\n",
       "741         David Yates  0.430886    888\n",
       "2418  Quentin Tarantino  0.406373    885"
      ]
     },
     "metadata": {},
     "output_type": "display_data"
    }
   ],
   "source": [
    "variable = 'credits_first_name'\n",
    "variable_name = \"Credits first name\"\n",
    "exp=complete[[variable,'rating_pond','ones']].drop_duplicates()\n",
    "exp=exp.groupby(variable, as_index=False).agg({'rating_pond': \"mean\", 'ones':\"count\"}).sort_values(by= 'ones',ascending=False)\n",
    "exp.columns=[variable_name, \"Rating\",\"Count\"]\n",
    "display(exp.head(5))"
   ]
  },
  {
   "cell_type": "markdown",
   "id": "95ac960c",
   "metadata": {},
   "source": [
    "        Steven Spielberg most watched movies and but not so high rating. "
   ]
  },
  {
   "cell_type": "markdown",
   "id": "70a6fd98",
   "metadata": {},
   "source": [
    "### Audience"
   ]
  },
  {
   "cell_type": "code",
   "execution_count": 34,
   "id": "d33bb5bd",
   "metadata": {},
   "outputs": [
    {
     "data": {
      "image/png": "[encoded data removed]",
      "text/plain": [
       "<Figure size 1080x576 with 1 Axes>"
      ]
     },
     "metadata": {
      "needs_background": "light"
     },
     "output_type": "display_data"
    }
   ],
   "source": [
    "plt.figure(figsize=(15,8))\n",
    "sns.countplot(x='audience', data=complete,\n",
    "             order = complete['audience'].value_counts().index).set(title='Audience')\n",
    "plt.show();"
   ]
  },
  {
   "cell_type": "code",
   "execution_count": 51,
   "id": "54210386",
   "metadata": {
    "scrolled": true
   },
   "outputs": [
    {
     "data": {
      "text/html": [
       "<div>\n",
       "<style scoped>\n",
       "    .dataframe tbody tr th:only-of-type {\n",
       "        vertical-align: middle;\n",
       "    }\n",
       "\n",
       "    .dataframe tbody tr th {\n",
       "        vertical-align: top;\n",
       "    }\n",
       "\n",
       "    .dataframe thead th {\n",
       "        text-align: right;\n",
       "    }\n",
       "</style>\n",
       "<table border=\"1\" class=\"dataframe\">\n",
       "  <thead>\n",
       "    <tr style=\"text-align: right;\">\n",
       "      <th></th>\n",
       "      <th>Audience</th>\n",
       "      <th>Rating</th>\n",
       "      <th>Count</th>\n",
       "    </tr>\n",
       "  </thead>\n",
       "  <tbody>\n",
       "    <tr>\n",
       "      <th>2</th>\n",
       "      <td>General</td>\n",
       "      <td>0.431661</td>\n",
       "      <td>13721</td>\n",
       "    </tr>\n",
       "    <tr>\n",
       "      <th>3</th>\n",
       "      <td>Hombres</td>\n",
       "      <td>0.413284</td>\n",
       "      <td>7385</td>\n",
       "    </tr>\n",
       "    <tr>\n",
       "      <th>5</th>\n",
       "      <td>Mujeres</td>\n",
       "      <td>0.409274</td>\n",
       "      <td>6476</td>\n",
       "    </tr>\n",
       "    <tr>\n",
       "      <th>0</th>\n",
       "      <td>Familiar</td>\n",
       "      <td>0.441859</td>\n",
       "      <td>6220</td>\n",
       "    </tr>\n",
       "    <tr>\n",
       "      <th>4</th>\n",
       "      <td>Juvenil</td>\n",
       "      <td>0.393297</td>\n",
       "      <td>5877</td>\n",
       "    </tr>\n",
       "  </tbody>\n",
       "</table>\n",
       "</div>"
      ],
      "text/plain": [
       "   Audience    Rating  Count\n",
       "2   General  0.431661  13721\n",
       "3   Hombres  0.413284   7385\n",
       "5   Mujeres  0.409274   6476\n",
       "0  Familiar  0.441859   6220\n",
       "4   Juvenil  0.393297   5877"
      ]
     },
     "metadata": {},
     "output_type": "display_data"
    }
   ],
   "source": [
    "variable = 'audience'\n",
    "variable_name = \"Audience\"\n",
    "exp=complete[[variable,'rating_pond','ones']].drop_duplicates()\n",
    "exp=exp.groupby(variable, as_index=False).agg({'rating_pond': \"mean\", 'ones':\"count\"}).sort_values(by= 'ones',ascending=False)\n",
    "exp.columns=[variable_name, \"Rating\",\"Count\"]\n",
    "display(exp.head(5))"
   ]
  },
  {
   "cell_type": "markdown",
   "id": "6ad333a3",
   "metadata": {},
   "source": [
    "    After general audience, content for women is the most popular among watched content. "
   ]
  },
  {
   "cell_type": "markdown",
   "id": "618528cf",
   "metadata": {},
   "source": [
    "### Title"
   ]
  },
  {
   "cell_type": "code",
   "execution_count": 52,
   "id": "09c484a7",
   "metadata": {},
   "outputs": [
    {
     "data": {
      "text/html": [
       "<div>\n",
       "<style scoped>\n",
       "    .dataframe tbody tr th:only-of-type {\n",
       "        vertical-align: middle;\n",
       "    }\n",
       "\n",
       "    .dataframe tbody tr th {\n",
       "        vertical-align: top;\n",
       "    }\n",
       "\n",
       "    .dataframe thead th {\n",
       "        text-align: right;\n",
       "    }\n",
       "</style>\n",
       "<table border=\"1\" class=\"dataframe\">\n",
       "  <thead>\n",
       "    <tr style=\"text-align: right;\">\n",
       "      <th></th>\n",
       "      <th>Title</th>\n",
       "      <th>Rating</th>\n",
       "      <th>Count</th>\n",
       "    </tr>\n",
       "  </thead>\n",
       "  <tbody>\n",
       "    <tr>\n",
       "      <th>4283</th>\n",
       "      <td>La odisea de los giles</td>\n",
       "      <td>0.455915</td>\n",
       "      <td>292</td>\n",
       "    </tr>\n",
       "    <tr>\n",
       "      <th>2288</th>\n",
       "      <td>El lobo de Wall Street</td>\n",
       "      <td>0.447959</td>\n",
       "      <td>279</td>\n",
       "    </tr>\n",
       "    <tr>\n",
       "      <th>2444</th>\n",
       "      <td>Emma</td>\n",
       "      <td>0.456489</td>\n",
       "      <td>259</td>\n",
       "    </tr>\n",
       "    <tr>\n",
       "      <th>4993</th>\n",
       "      <td>Raúl. La democracia desde adentro</td>\n",
       "      <td>0.449041</td>\n",
       "      <td>246</td>\n",
       "    </tr>\n",
       "    <tr>\n",
       "      <th>4122</th>\n",
       "      <td>La Liga de la Justicia de Zack Snyder</td>\n",
       "      <td>0.370178</td>\n",
       "      <td>236</td>\n",
       "    </tr>\n",
       "  </tbody>\n",
       "</table>\n",
       "</div>"
      ],
      "text/plain": [
       "                                      Title    Rating  Count\n",
       "4283                 La odisea de los giles  0.455915    292\n",
       "2288                 El lobo de Wall Street  0.447959    279\n",
       "2444                                   Emma  0.456489    259\n",
       "4993      Raúl. La democracia desde adentro  0.449041    246\n",
       "4122  La Liga de la Justicia de Zack Snyder  0.370178    236"
      ]
     },
     "metadata": {},
     "output_type": "display_data"
    }
   ],
   "source": [
    "variable = 'title'\n",
    "variable_name = \"Title\"\n",
    "exp=complete[[variable,'rating_pond','ones']].drop_duplicates()\n",
    "exp=exp.groupby(variable, as_index=False).agg({'rating_pond': \"mean\", 'ones':\"count\"}).sort_values(by= 'ones',ascending=False)\n",
    "exp.columns=[variable_name, \"Rating\",\"Count\"]\n",
    "display(exp.head(5))"
   ]
  },
  {
   "cell_type": "markdown",
   "id": "ef7e9769",
   "metadata": {},
   "source": [
    "    Most watched title La odisea de los giles and El lobo de Wall Street, but great rating among most watched content."
   ]
  },
  {
   "cell_type": "markdown",
   "id": "4f005bf3",
   "metadata": {},
   "source": [
    "### Show type"
   ]
  },
  {
   "cell_type": "code",
   "execution_count": 42,
   "id": "9e0bd47b",
   "metadata": {},
   "outputs": [
    {
     "data": {
      "image/png": "[encoded data removed]",
      "text/plain": [
       "<Figure size 1080x576 with 1 Axes>"
      ]
     },
     "metadata": {
      "needs_background": "light"
     },
     "output_type": "display_data"
    }
   ],
   "source": [
    "plt.figure(figsize=(15,8))\n",
    "sns.countplot(x='show_type', data=complete,\n",
    "             order = complete['show_type'].value_counts().index).set(title='Show type')\n",
    "plt.show();"
   ]
  },
  {
   "cell_type": "code",
   "execution_count": 53,
   "id": "7b438901",
   "metadata": {
    "scrolled": false
   },
   "outputs": [
    {
     "data": {
      "text/html": [
       "<div>\n",
       "<style scoped>\n",
       "    .dataframe tbody tr th:only-of-type {\n",
       "        vertical-align: middle;\n",
       "    }\n",
       "\n",
       "    .dataframe tbody tr th {\n",
       "        vertical-align: top;\n",
       "    }\n",
       "\n",
       "    .dataframe thead th {\n",
       "        text-align: right;\n",
       "    }\n",
       "</style>\n",
       "<table border=\"1\" class=\"dataframe\">\n",
       "  <thead>\n",
       "    <tr style=\"text-align: right;\">\n",
       "      <th></th>\n",
       "      <th>Show type</th>\n",
       "      <th>Rating</th>\n",
       "      <th>Count</th>\n",
       "    </tr>\n",
       "  </thead>\n",
       "  <tbody>\n",
       "    <tr>\n",
       "      <th>1</th>\n",
       "      <td>Película</td>\n",
       "      <td>0.440471</td>\n",
       "      <td>14761</td>\n",
       "    </tr>\n",
       "    <tr>\n",
       "      <th>3</th>\n",
       "      <td>Serie</td>\n",
       "      <td>0.431946</td>\n",
       "      <td>6218</td>\n",
       "    </tr>\n",
       "    <tr>\n",
       "      <th>5</th>\n",
       "      <td>TV</td>\n",
       "      <td>0.379108</td>\n",
       "      <td>4517</td>\n",
       "    </tr>\n",
       "    <tr>\n",
       "      <th>2</th>\n",
       "      <td>Rolling</td>\n",
       "      <td>0.316619</td>\n",
       "      <td>781</td>\n",
       "    </tr>\n",
       "    <tr>\n",
       "      <th>6</th>\n",
       "      <td>Web</td>\n",
       "      <td>0.430440</td>\n",
       "      <td>264</td>\n",
       "    </tr>\n",
       "  </tbody>\n",
       "</table>\n",
       "</div>"
      ],
      "text/plain": [
       "  Show type    Rating  Count\n",
       "1  Película  0.440471  14761\n",
       "3     Serie  0.431946   6218\n",
       "5        TV  0.379108   4517\n",
       "2   Rolling  0.316619    781\n",
       "6       Web  0.430440    264"
      ]
     },
     "metadata": {},
     "output_type": "display_data"
    }
   ],
   "source": [
    "variable = 'show_type'\n",
    "variable_name = \"Show type\"\n",
    "exp=complete[[variable,'rating_pond','ones']].drop_duplicates()\n",
    "exp=exp.groupby(variable, as_index=False).agg({'rating_pond': \"mean\", 'ones':\"count\"}).sort_values(by= 'ones',ascending=False)\n",
    "exp.columns=[variable_name, \"Rating\",\"Count\"]\n",
    "display(exp.head(5))"
   ]
  },
  {
   "cell_type": "markdown",
   "id": "58a13273",
   "metadata": {},
   "source": [
    "## First model\n",
    "    Train test split:"
   ]
  },
  {
   "cell_type": "code",
   "execution_count": 40,
   "id": "7f9b2dbf",
   "metadata": {},
   "outputs": [],
   "source": [
    "# Create train and test database as requested\n",
    "train = complete.loc[(complete[\"tunein\"] <= \"2021-02-28 23:59:59\")]\n",
    "test = complete.loc[(complete[\"tunein\"] > \"2021-02-28 23:59:59\")]"
   ]
  },
  {
   "cell_type": "code",
   "execution_count": 41,
   "id": "c53a7f26",
   "metadata": {
    "scrolled": true
   },
   "outputs": [],
   "source": [
    "# Crate interactions matrix\n",
    "interactions = train[[\"account_id\", \"content_id\", \"rating_pond\"]].drop_duplicates(keep='first')"
   ]
  },
  {
   "cell_type": "code",
   "execution_count": 15,
   "id": "a8afbd1b",
   "metadata": {},
   "outputs": [],
   "source": [
    "# Remove some data frames to prevent run off memory\n",
    "# import gc\n",
    "# import pandas as pd\n",
    "\n",
    "# del [[complete,complete_red,ratings]]\n",
    "# gc.collect()\n",
    "# complete=pd.DataFrame()\n",
    "# complete_red=pd.DataFrame()\n",
    "# ratings=pd.DataFrame()"
   ]
  },
  {
   "cell_type": "code",
   "execution_count": 42,
   "id": "1465d77f",
   "metadata": {},
   "outputs": [],
   "source": [
    "interactions_matrix = interactions.pivot(index=\"account_id\", columns=\"content_id\", values=\"rating_pond\")"
   ]
  },
  {
   "cell_type": "code",
   "execution_count": 43,
   "id": "ba641778",
   "metadata": {},
   "outputs": [],
   "source": [
    "interactions_matrix = interactions_matrix.fillna(0)"
   ]
  },
  {
   "cell_type": "code",
   "execution_count": 44,
   "id": "be73f703",
   "metadata": {},
   "outputs": [
    {
     "data": {
      "text/plain": [
       "(97499, 3022)"
      ]
     },
     "execution_count": 44,
     "metadata": {},
     "output_type": "execute_result"
    }
   ],
   "source": [
    "interactions_matrix.shape"
   ]
  },
  {
   "cell_type": "code",
   "execution_count": 19,
   "id": "9d7b44c4",
   "metadata": {},
   "outputs": [],
   "source": [
    "# interactions_matrix.head()"
   ]
  },
  {
   "cell_type": "code",
   "execution_count": 45,
   "id": "5126c991",
   "metadata": {},
   "outputs": [],
   "source": [
    "# Create dictionaries for future references\n",
    "user_id = list(interactions_matrix.index)\n",
    "user_dict = {}\n",
    "counter = 0 \n",
    "for i in user_id:\n",
    "    user_dict[i] = counter\n",
    "    counter += 1\n",
    "    \n",
    "item_id = list(interactions_matrix.columns)\n",
    "item_dict = {}\n",
    "counter = 0 \n",
    "for i in item_id:\n",
    "    item_dict[i] = counter\n",
    "    counter += 1"
   ]
  },
  {
   "cell_type": "code",
   "execution_count": 46,
   "id": "629f3a69",
   "metadata": {},
   "outputs": [
    {
     "data": {
      "text/plain": [
       "<97499x3022 sparse matrix of type '<class 'numpy.float64'>'\n",
       "\twith 589639 stored elements in Compressed Sparse Row format>"
      ]
     },
     "execution_count": 46,
     "metadata": {},
     "output_type": "execute_result"
    }
   ],
   "source": [
    "interactions_matrix_csr = csr_matrix(interactions_matrix.values)\n",
    "interactions_matrix_csr"
   ]
  },
  {
   "cell_type": "code",
   "execution_count": 24,
   "id": "bac300ef",
   "metadata": {},
   "outputs": [],
   "source": [
    "# Create collaborative filtering predictive model \n",
    "colaborative_model = LightFM(random_state=0,\n",
    "                loss='warp',\n",
    "                learning_rate=0.01,\n",
    "                no_components=100)\n",
    "\n",
    "colaborative_model = colaborative_model.fit(interactions_matrix_csr,\n",
    "                  epochs=100,\n",
    "                  num_threads=16, verbose=False)"
   ]
  },
  {
   "cell_type": "code",
   "execution_count": 23,
   "id": "0d07cd52",
   "metadata": {},
   "outputs": [
    {
     "data": {
      "text/plain": [
       "['colaborative_model.joblib']"
      ]
     },
     "execution_count": 23,
     "metadata": {},
     "output_type": "execute_result"
    }
   ],
   "source": [
    "# Save the model\n",
    "joblib.dump(colaborative_model, \"colaborative_model.joblib\")\n",
    "\n",
    "# Load model once\n",
    "# model: LightFM = joblib.load(\"/model/files/model.joblib\")    "
   ]
  },
  {
   "cell_type": "markdown",
   "id": "b6252837",
   "metadata": {},
   "source": [
    "# Cold start\n",
    "\n",
    "    For those users that are not part of the traininga frame, we need to recommend something. The first approach is to recommend the most popular items. "
   ]
  },
  {
   "cell_type": "code",
   "execution_count": 47,
   "id": "ea1c2dec",
   "metadata": {},
   "outputs": [
    {
     "data": {
      "text/html": [
       "<div>\n",
       "<style scoped>\n",
       "    .dataframe tbody tr th:only-of-type {\n",
       "        vertical-align: middle;\n",
       "    }\n",
       "\n",
       "    .dataframe tbody tr th {\n",
       "        vertical-align: top;\n",
       "    }\n",
       "\n",
       "    .dataframe thead th {\n",
       "        text-align: right;\n",
       "    }\n",
       "</style>\n",
       "<table border=\"1\" class=\"dataframe\">\n",
       "  <thead>\n",
       "    <tr style=\"text-align: right;\">\n",
       "      <th></th>\n",
       "      <th>content_id</th>\n",
       "      <th>popularity</th>\n",
       "    </tr>\n",
       "  </thead>\n",
       "  <tbody>\n",
       "    <tr>\n",
       "      <th>1764</th>\n",
       "      <td>2040.0</td>\n",
       "      <td>13629</td>\n",
       "    </tr>\n",
       "    <tr>\n",
       "      <th>3515</th>\n",
       "      <td>3806.0</td>\n",
       "      <td>9377</td>\n",
       "    </tr>\n",
       "    <tr>\n",
       "      <th>3609</th>\n",
       "      <td>3900.0</td>\n",
       "      <td>9082</td>\n",
       "    </tr>\n",
       "    <tr>\n",
       "      <th>3839</th>\n",
       "      <td>4133.0</td>\n",
       "      <td>8722</td>\n",
       "    </tr>\n",
       "    <tr>\n",
       "      <th>1707</th>\n",
       "      <td>1983.0</td>\n",
       "      <td>6695</td>\n",
       "    </tr>\n",
       "  </tbody>\n",
       "</table>\n",
       "</div>"
      ],
      "text/plain": [
       "      content_id  popularity\n",
       "1764      2040.0       13629\n",
       "3515      3806.0        9377\n",
       "3609      3900.0        9082\n",
       "3839      4133.0        8722\n",
       "1707      1983.0        6695"
      ]
     },
     "metadata": {},
     "output_type": "display_data"
    }
   ],
   "source": [
    "popularity_df=complete_red[[\"account_id\",\"content_id\"]].drop_duplicates()\n",
    "popularity_df=popularity_df.groupby('content_id', as_index=False).agg({\"account_id\": \"count\"}).sort_values(by='account_id',ascending=False)\n",
    "popularity_df.columns=[\"content_id\", \"popularity\"]\n",
    "display(popularity_df.head())"
   ]
  },
  {
   "cell_type": "code",
   "execution_count": 48,
   "id": "054e5224",
   "metadata": {},
   "outputs": [],
   "source": [
    "popular_content = popularity_df.head(20).content_id"
   ]
  },
  {
   "cell_type": "code",
   "execution_count": 26,
   "id": "ae9cf964",
   "metadata": {},
   "outputs": [
    {
     "data": {
      "text/html": [
       "<div>\n",
       "<style scoped>\n",
       "    .dataframe tbody tr th:only-of-type {\n",
       "        vertical-align: middle;\n",
       "    }\n",
       "\n",
       "    .dataframe tbody tr th {\n",
       "        vertical-align: top;\n",
       "    }\n",
       "\n",
       "    .dataframe thead th {\n",
       "        text-align: right;\n",
       "    }\n",
       "</style>\n",
       "<table border=\"1\" class=\"dataframe\">\n",
       "  <thead>\n",
       "    <tr style=\"text-align: right;\">\n",
       "      <th></th>\n",
       "      <th>customer_id</th>\n",
       "      <th>account_id</th>\n",
       "      <th>device_type</th>\n",
       "      <th>asset_id</th>\n",
       "      <th>tunein</th>\n",
       "      <th>tuneout</th>\n",
       "      <th>resume</th>\n",
       "      <th>time_dif</th>\n",
       "      <th>time_dif_sec</th>\n",
       "      <th>time_dif_min</th>\n",
       "      <th>...</th>\n",
       "      <th>dialog_rating</th>\n",
       "      <th>fv_rating</th>\n",
       "      <th>pay_per_view</th>\n",
       "      <th>pack_premium_1</th>\n",
       "      <th>pack_premium_2</th>\n",
       "      <th>create_date</th>\n",
       "      <th>modify_date</th>\n",
       "      <th>start_vod_date</th>\n",
       "      <th>end_vod_date</th>\n",
       "      <th>rating_pond</th>\n",
       "    </tr>\n",
       "  </thead>\n",
       "  <tbody>\n",
       "    <tr>\n",
       "      <th>1</th>\n",
       "      <td>0</td>\n",
       "      <td>90627</td>\n",
       "      <td>STATIONARY</td>\n",
       "      <td>24727.0</td>\n",
       "      <td>2021-03-24 23:17:00</td>\n",
       "      <td>2021-03-25 00:01:00</td>\n",
       "      <td>0</td>\n",
       "      <td>0 days 00:44:00</td>\n",
       "      <td>2640.0</td>\n",
       "      <td>44.0</td>\n",
       "      <td>...</td>\n",
       "      <td>N</td>\n",
       "      <td>N</td>\n",
       "      <td>N</td>\n",
       "      <td>Y</td>\n",
       "      <td>N</td>\n",
       "      <td>2021-03-17T20:31:21.0Z</td>\n",
       "      <td>2021-03-25T23:15:49.0Z</td>\n",
       "      <td>2021-03-18T00:00:00.0Z</td>\n",
       "      <td>2021-06-30T23:59:59.0Z</td>\n",
       "      <td>1.000000</td>\n",
       "    </tr>\n",
       "    <tr>\n",
       "      <th>2</th>\n",
       "      <td>1</td>\n",
       "      <td>3387</td>\n",
       "      <td>STB</td>\n",
       "      <td>895.0</td>\n",
       "      <td>2021-03-15 10:05:00</td>\n",
       "      <td>2021-03-15 10:23:00</td>\n",
       "      <td>0</td>\n",
       "      <td>0 days 00:18:00</td>\n",
       "      <td>1080.0</td>\n",
       "      <td>18.0</td>\n",
       "      <td>...</td>\n",
       "      <td>N</td>\n",
       "      <td>N</td>\n",
       "      <td>N</td>\n",
       "      <td>N</td>\n",
       "      <td>N</td>\n",
       "      <td>2021-03-05T18:37:58.0Z</td>\n",
       "      <td>2021-03-08T02:06:03.0Z</td>\n",
       "      <td>2021-03-08T00:00:00.0Z</td>\n",
       "      <td>2021-03-28T23:59:00.0Z</td>\n",
       "      <td>0.666667</td>\n",
       "    </tr>\n",
       "    <tr>\n",
       "      <th>3</th>\n",
       "      <td>1</td>\n",
       "      <td>3387</td>\n",
       "      <td>STB</td>\n",
       "      <td>895.0</td>\n",
       "      <td>2021-03-15 10:23:00</td>\n",
       "      <td>2021-03-15 11:18:00</td>\n",
       "      <td>1</td>\n",
       "      <td>0 days 00:55:00</td>\n",
       "      <td>3300.0</td>\n",
       "      <td>55.0</td>\n",
       "      <td>...</td>\n",
       "      <td>N</td>\n",
       "      <td>N</td>\n",
       "      <td>N</td>\n",
       "      <td>N</td>\n",
       "      <td>N</td>\n",
       "      <td>2021-03-05T18:37:58.0Z</td>\n",
       "      <td>2021-03-08T02:06:03.0Z</td>\n",
       "      <td>2021-03-08T00:00:00.0Z</td>\n",
       "      <td>2021-03-28T23:59:00.0Z</td>\n",
       "      <td>0.666667</td>\n",
       "    </tr>\n",
       "    <tr>\n",
       "      <th>4</th>\n",
       "      <td>1</td>\n",
       "      <td>3387</td>\n",
       "      <td>STB</td>\n",
       "      <td>26062.0</td>\n",
       "      <td>2021-03-16 09:24:00</td>\n",
       "      <td>2021-03-16 09:44:00</td>\n",
       "      <td>0</td>\n",
       "      <td>0 days 00:20:00</td>\n",
       "      <td>1200.0</td>\n",
       "      <td>20.0</td>\n",
       "      <td>...</td>\n",
       "      <td>N</td>\n",
       "      <td>N</td>\n",
       "      <td>N</td>\n",
       "      <td>N</td>\n",
       "      <td>N</td>\n",
       "      <td>2021-03-06T13:47:10.0Z</td>\n",
       "      <td>2021-03-08T02:06:06.0Z</td>\n",
       "      <td>2021-03-08T00:00:00.0Z</td>\n",
       "      <td>2021-03-28T23:59:00.0Z</td>\n",
       "      <td>0.234694</td>\n",
       "    </tr>\n",
       "    <tr>\n",
       "      <th>5</th>\n",
       "      <td>1</td>\n",
       "      <td>3387</td>\n",
       "      <td>STB</td>\n",
       "      <td>26062.0</td>\n",
       "      <td>2021-03-16 09:44:00</td>\n",
       "      <td>2021-03-16 09:47:00</td>\n",
       "      <td>0</td>\n",
       "      <td>0 days 00:03:00</td>\n",
       "      <td>180.0</td>\n",
       "      <td>3.0</td>\n",
       "      <td>...</td>\n",
       "      <td>N</td>\n",
       "      <td>N</td>\n",
       "      <td>N</td>\n",
       "      <td>N</td>\n",
       "      <td>N</td>\n",
       "      <td>2021-03-06T13:47:10.0Z</td>\n",
       "      <td>2021-03-08T02:06:06.0Z</td>\n",
       "      <td>2021-03-08T00:00:00.0Z</td>\n",
       "      <td>2021-03-28T23:59:00.0Z</td>\n",
       "      <td>0.234694</td>\n",
       "    </tr>\n",
       "  </tbody>\n",
       "</table>\n",
       "<p>5 rows × 40 columns</p>\n",
       "</div>"
      ],
      "text/plain": [
       "   customer_id  account_id device_type  asset_id              tunein  \\\n",
       "1            0       90627  STATIONARY   24727.0 2021-03-24 23:17:00   \n",
       "2            1        3387         STB     895.0 2021-03-15 10:05:00   \n",
       "3            1        3387         STB     895.0 2021-03-15 10:23:00   \n",
       "4            1        3387         STB   26062.0 2021-03-16 09:24:00   \n",
       "5            1        3387         STB   26062.0 2021-03-16 09:44:00   \n",
       "\n",
       "              tuneout  resume        time_dif  time_dif_sec  time_dif_min  \\\n",
       "1 2021-03-25 00:01:00       0 0 days 00:44:00        2640.0          44.0   \n",
       "2 2021-03-15 10:23:00       0 0 days 00:18:00        1080.0          18.0   \n",
       "3 2021-03-15 11:18:00       1 0 days 00:55:00        3300.0          55.0   \n",
       "4 2021-03-16 09:44:00       0 0 days 00:20:00        1200.0          20.0   \n",
       "5 2021-03-16 09:47:00       0 0 days 00:03:00         180.0           3.0   \n",
       "\n",
       "   ...  dialog_rating fv_rating pay_per_view pack_premium_1 pack_premium_2  \\\n",
       "1  ...              N         N            N              Y              N   \n",
       "2  ...              N         N            N              N              N   \n",
       "3  ...              N         N            N              N              N   \n",
       "4  ...              N         N            N              N              N   \n",
       "5  ...              N         N            N              N              N   \n",
       "\n",
       "              create_date             modify_date          start_vod_date  \\\n",
       "1  2021-03-17T20:31:21.0Z  2021-03-25T23:15:49.0Z  2021-03-18T00:00:00.0Z   \n",
       "2  2021-03-05T18:37:58.0Z  2021-03-08T02:06:03.0Z  2021-03-08T00:00:00.0Z   \n",
       "3  2021-03-05T18:37:58.0Z  2021-03-08T02:06:03.0Z  2021-03-08T00:00:00.0Z   \n",
       "4  2021-03-06T13:47:10.0Z  2021-03-08T02:06:06.0Z  2021-03-08T00:00:00.0Z   \n",
       "5  2021-03-06T13:47:10.0Z  2021-03-08T02:06:06.0Z  2021-03-08T00:00:00.0Z   \n",
       "\n",
       "             end_vod_date rating_pond  \n",
       "1  2021-06-30T23:59:59.0Z    1.000000  \n",
       "2  2021-03-28T23:59:00.0Z    0.666667  \n",
       "3  2021-03-28T23:59:00.0Z    0.666667  \n",
       "4  2021-03-28T23:59:00.0Z    0.234694  \n",
       "5  2021-03-28T23:59:00.0Z    0.234694  \n",
       "\n",
       "[5 rows x 40 columns]"
      ]
     },
     "execution_count": 26,
     "metadata": {},
     "output_type": "execute_result"
    }
   ],
   "source": [
    "test.head()"
   ]
  },
  {
   "cell_type": "markdown",
   "id": "9922bab7",
   "metadata": {},
   "source": [
    "# Predictions of the first model\n",
    "\n",
    "    To assess the capacity of our model we are going to calculate the predictions for the test set. "
   ]
  },
  {
   "cell_type": "code",
   "execution_count": 27,
   "id": "ac9a7bc2",
   "metadata": {},
   "outputs": [
    {
     "name": "stderr",
     "output_type": "stream",
     "text": [
      "100%|███████████████████████████████████████████████████████████████████████████| 87632/87632 [08:16<00:00, 176.49it/s]\n"
     ]
    }
   ],
   "source": [
    "#define where we are going to store the recommendations\n",
    "recomms_dict = {\n",
    "    'account_id': [],\n",
    "    'recomms': []\n",
    "}\n",
    "\n",
    "#we obtain number of users and number of items\n",
    "n_users, n_items = interactions_matrix.shape\n",
    "item_ids = np.arange(n_items)\n",
    "\n",
    "#for each user of the test dataset, we generate recommendations\n",
    "for user in tqdm(test.account_id.unique()):\n",
    "\n",
    "    #-----------\n",
    "    # Validate if the user is in the interactions matrix (interactions_matrix.index)\n",
    "    if user in interactions_matrix.index:\n",
    "    #-----------\n",
    "\n",
    "        # If the user is in train, it is not cold start. We use the model to recommend\n",
    "        user_x = user_dict[user] #we look for the user's index in the array (we transform id to index)\n",
    "\n",
    "        #---------------\n",
    "        # Generate predictions for the user x\n",
    "        preds = colaborative_model.predict(user_ids=user_x, item_ids = item_ids)\n",
    "        #--------------\n",
    "\n",
    "        #--------------\n",
    "        # order the predictions from lowest to highest and stay with 30.\n",
    "        scores = pd.Series(preds)\n",
    "        scores.index = interactions_matrix.columns\n",
    "        recomms = list(pd.Series(scores.sort_values(ascending=False).index))[:30] #Retain the first 30\n",
    "        #--------------\n",
    "\n",
    "        #--------------\n",
    "        # Get list of contents previously viewed by the user (in the train set)\n",
    "        watched_contents = train[(train.account_id==user_x)].content_id.unique()\n",
    "        #---------------------\n",
    "\n",
    "        #---------------------\n",
    "        # Filter contents already viewed\n",
    "        recomms = [rec for rec in recomms if rec not in watched_contents]\n",
    "        #--------------------\n",
    "\n",
    "        # We keep the recommendations in the dictionary\n",
    "        recomms_dict['account_id'].append(user)\n",
    "        recomms_dict['recomms'].append(recomms)\n",
    "\n",
    "        # In this else statement we are going to treat the users that are not in train data (cold start)\n",
    "    else:\n",
    "        recomms_dict['account_id'].append(user)\n",
    "        # Recomend most popular content\n",
    "        recomms_dict['recomms'].append(popular_content)\n"
   ]
  },
  {
   "cell_type": "code",
   "execution_count": 28,
   "id": "2ee5b301",
   "metadata": {},
   "outputs": [],
   "source": [
    "recomms_df = pd.DataFrame(recomms_dict)\n",
    "recomms_df\n",
    "recomms_df.to_csv(\"Recomendaciones_1Modelo.csv\")"
   ]
  },
  {
   "cell_type": "markdown",
   "id": "2661951b",
   "metadata": {},
   "source": [
    "# Metrics\n",
    "    \n",
    "    Once we have calculated the predictions we are going to calculate the metric, in this case the performance is going to be evaluated calculating: \n",
    "    MAP = mean average precision."
   ]
  },
  {
   "cell_type": "code",
   "execution_count": 29,
   "id": "8d6c55aa",
   "metadata": {},
   "outputs": [
    {
     "data": {
      "text/html": [
       "<div>\n",
       "<style scoped>\n",
       "    .dataframe tbody tr th:only-of-type {\n",
       "        vertical-align: middle;\n",
       "    }\n",
       "\n",
       "    .dataframe tbody tr th {\n",
       "        vertical-align: top;\n",
       "    }\n",
       "\n",
       "    .dataframe thead th {\n",
       "        text-align: right;\n",
       "    }\n",
       "</style>\n",
       "<table border=\"1\" class=\"dataframe\">\n",
       "  <thead>\n",
       "    <tr style=\"text-align: right;\">\n",
       "      <th></th>\n",
       "      <th>account_id</th>\n",
       "      <th>content_id</th>\n",
       "    </tr>\n",
       "  </thead>\n",
       "  <tbody>\n",
       "    <tr>\n",
       "      <th>0</th>\n",
       "      <td>2</td>\n",
       "      <td>[433.0]</td>\n",
       "    </tr>\n",
       "    <tr>\n",
       "      <th>1</th>\n",
       "      <td>3</td>\n",
       "      <td>[1949.0, 4010.0, 3169.0, 3487.0, 461.0, 4059.0...</td>\n",
       "    </tr>\n",
       "    <tr>\n",
       "      <th>2</th>\n",
       "      <td>4</td>\n",
       "      <td>[513.0, 565.0, 2212.0, 4129.0, 4340.0, 2341.0,...</td>\n",
       "    </tr>\n",
       "    <tr>\n",
       "      <th>3</th>\n",
       "      <td>5</td>\n",
       "      <td>[2259.0]</td>\n",
       "    </tr>\n",
       "    <tr>\n",
       "      <th>4</th>\n",
       "      <td>6</td>\n",
       "      <td>[2900.0, 4065.0, 3211.0, 3386.0, 3388.0, 3902.0]</td>\n",
       "    </tr>\n",
       "  </tbody>\n",
       "</table>\n",
       "</div>"
      ],
      "text/plain": [
       "   account_id                                         content_id\n",
       "0           2                                            [433.0]\n",
       "1           3  [1949.0, 4010.0, 3169.0, 3487.0, 461.0, 4059.0...\n",
       "2           4  [513.0, 565.0, 2212.0, 4129.0, 4340.0, 2341.0,...\n",
       "3           5                                           [2259.0]\n",
       "4           6   [2900.0, 4065.0, 3211.0, 3386.0, 3388.0, 3902.0]"
      ]
     },
     "execution_count": 29,
     "metadata": {},
     "output_type": "execute_result"
    }
   ],
   "source": [
    "# Test set ratings\n",
    "ideal_recoms = test\\\n",
    "    .sort_values(by=[\"account_id\",\"rating_pond\"], ascending=False)\\\n",
    "    .groupby(\"account_id\", as_index=False)\\\n",
    "    .agg({\"content_id\": \"unique\"})\n",
    "ideal_recoms.head()"
   ]
  },
  {
   "cell_type": "code",
   "execution_count": 30,
   "id": "641f2b53",
   "metadata": {},
   "outputs": [
    {
     "data": {
      "text/html": [
       "<div>\n",
       "<style scoped>\n",
       "    .dataframe tbody tr th:only-of-type {\n",
       "        vertical-align: middle;\n",
       "    }\n",
       "\n",
       "    .dataframe tbody tr th {\n",
       "        vertical-align: top;\n",
       "    }\n",
       "\n",
       "    .dataframe thead th {\n",
       "        text-align: right;\n",
       "    }\n",
       "</style>\n",
       "<table border=\"1\" class=\"dataframe\">\n",
       "  <thead>\n",
       "    <tr style=\"text-align: right;\">\n",
       "      <th></th>\n",
       "      <th>account_id</th>\n",
       "      <th>recomms</th>\n",
       "    </tr>\n",
       "  </thead>\n",
       "  <tbody>\n",
       "    <tr>\n",
       "      <th>0</th>\n",
       "      <td>90627</td>\n",
       "      <td>[3806.0, 3900.0, 116.0, 1462.0, 724.0, 1020.0,...</td>\n",
       "    </tr>\n",
       "    <tr>\n",
       "      <th>1</th>\n",
       "      <td>3387</td>\n",
       "      <td>1764    2040.0\n",
       "3515    3806.0\n",
       "3609    3900.0\n",
       "3...</td>\n",
       "    </tr>\n",
       "    <tr>\n",
       "      <th>2</th>\n",
       "      <td>3388</td>\n",
       "      <td>[2040.0, 116.0, 724.0, 1539.0, 3716.0, 729.0, ...</td>\n",
       "    </tr>\n",
       "    <tr>\n",
       "      <th>3</th>\n",
       "      <td>3389</td>\n",
       "      <td>[1877.0, 1018.0, 1020.0, 3900.0, 2040.0, 3806....</td>\n",
       "    </tr>\n",
       "    <tr>\n",
       "      <th>4</th>\n",
       "      <td>3393</td>\n",
       "      <td>[2160.0, 3572.0, 20.0, 2941.0, 1483.0, 36.0, 3...</td>\n",
       "    </tr>\n",
       "  </tbody>\n",
       "</table>\n",
       "</div>"
      ],
      "text/plain": [
       "   account_id                                            recomms\n",
       "0       90627  [3806.0, 3900.0, 116.0, 1462.0, 724.0, 1020.0,...\n",
       "1        3387  1764    2040.0\n",
       "3515    3806.0\n",
       "3609    3900.0\n",
       "3...\n",
       "2        3388  [2040.0, 116.0, 724.0, 1539.0, 3716.0, 729.0, ...\n",
       "3        3389  [1877.0, 1018.0, 1020.0, 3900.0, 2040.0, 3806....\n",
       "4        3393  [2160.0, 3572.0, 20.0, 2941.0, 1483.0, 36.0, 3..."
      ]
     },
     "execution_count": 30,
     "metadata": {},
     "output_type": "execute_result"
    }
   ],
   "source": [
    "# My recomendations\n",
    "recomms_df.head()"
   ]
  },
  {
   "cell_type": "code",
   "execution_count": 31,
   "id": "66b07a1b",
   "metadata": {
    "scrolled": true
   },
   "outputs": [
    {
     "data": {
      "text/html": [
       "<div>\n",
       "<style scoped>\n",
       "    .dataframe tbody tr th:only-of-type {\n",
       "        vertical-align: middle;\n",
       "    }\n",
       "\n",
       "    .dataframe tbody tr th {\n",
       "        vertical-align: top;\n",
       "    }\n",
       "\n",
       "    .dataframe thead th {\n",
       "        text-align: right;\n",
       "    }\n",
       "</style>\n",
       "<table border=\"1\" class=\"dataframe\">\n",
       "  <thead>\n",
       "    <tr style=\"text-align: right;\">\n",
       "      <th></th>\n",
       "      <th>account_id</th>\n",
       "      <th>ideal</th>\n",
       "      <th>recomms</th>\n",
       "    </tr>\n",
       "  </thead>\n",
       "  <tbody>\n",
       "    <tr>\n",
       "      <th>0</th>\n",
       "      <td>2</td>\n",
       "      <td>[433.0]</td>\n",
       "      <td>[3026.0, 2591.0, 3364.0, 2040.0, 1573.0, 1971....</td>\n",
       "    </tr>\n",
       "    <tr>\n",
       "      <th>1</th>\n",
       "      <td>3</td>\n",
       "      <td>[1949.0, 4010.0, 3169.0, 3487.0, 461.0, 4059.0...</td>\n",
       "      <td>[3711.0, 3210.0, 2815.0, 2972.0, 1008.0, 475.0...</td>\n",
       "    </tr>\n",
       "    <tr>\n",
       "      <th>2</th>\n",
       "      <td>4</td>\n",
       "      <td>[513.0, 565.0, 2212.0, 4129.0, 4340.0, 2341.0,...</td>\n",
       "      <td>[3806.0, 3210.0, 2827.0, 173.0, 4366.0, 2815.0...</td>\n",
       "    </tr>\n",
       "    <tr>\n",
       "      <th>3</th>\n",
       "      <td>5</td>\n",
       "      <td>[2259.0]</td>\n",
       "      <td>[3806.0, 3900.0, 3690.0, 3598.0, 2160.0, 2040....</td>\n",
       "    </tr>\n",
       "    <tr>\n",
       "      <th>4</th>\n",
       "      <td>6</td>\n",
       "      <td>[2900.0, 4065.0, 3211.0, 3386.0, 3388.0, 3902.0]</td>\n",
       "      <td>[3716.0, 2040.0, 116.0, 1140.0, 3900.0, 3681.0...</td>\n",
       "    </tr>\n",
       "  </tbody>\n",
       "</table>\n",
       "</div>"
      ],
      "text/plain": [
       "   account_id                                              ideal  \\\n",
       "0           2                                            [433.0]   \n",
       "1           3  [1949.0, 4010.0, 3169.0, 3487.0, 461.0, 4059.0...   \n",
       "2           4  [513.0, 565.0, 2212.0, 4129.0, 4340.0, 2341.0,...   \n",
       "3           5                                           [2259.0]   \n",
       "4           6   [2900.0, 4065.0, 3211.0, 3386.0, 3388.0, 3902.0]   \n",
       "\n",
       "                                             recomms  \n",
       "0  [3026.0, 2591.0, 3364.0, 2040.0, 1573.0, 1971....  \n",
       "1  [3711.0, 3210.0, 2815.0, 2972.0, 1008.0, 475.0...  \n",
       "2  [3806.0, 3210.0, 2827.0, 173.0, 4366.0, 2815.0...  \n",
       "3  [3806.0, 3900.0, 3690.0, 3598.0, 2160.0, 2040....  \n",
       "4  [3716.0, 2040.0, 116.0, 1140.0, 3900.0, 3681.0...  "
      ]
     },
     "execution_count": 31,
     "metadata": {},
     "output_type": "execute_result"
    }
   ],
   "source": [
    "df_map = ideal_recoms.merge(recomms_df, how=\"left\", left_on=\"account_id\", right_on=\"account_id\")[[\"account_id\", \"content_id\", \"recomms\"]]\n",
    "df_map.columns = [\"account_id\", \"ideal\", \"recomms\"]\n",
    "df_map.head()"
   ]
  },
  {
   "cell_type": "code",
   "execution_count": 32,
   "id": "0572bf01",
   "metadata": {},
   "outputs": [],
   "source": [
    "aps = [] # empty list to store the AP of each recommendation\n",
    "\n",
    "for pred, label in df_map[[\"ideal\", \"recomms\"]].values:\n",
    "    n = len(pred) # quantity of recomended elements\n",
    "    arange = np.arange(n, dtype=np.int32) + 1. \n",
    "    rel_k = np.in1d(pred[:n], label) # list of booleans indicating the relevance of each item\n",
    "    tp = np.ones(rel_k.sum(), dtype=np.int32).cumsum() # list with the counter of true positives\n",
    "    denom = arange[rel_k] # positions where the relevant items are located\n",
    "    ap = (tp / denom).sum() / len(label) # average precision\n",
    "    aps.append(ap)"
   ]
  },
  {
   "cell_type": "code",
   "execution_count": 33,
   "id": "632412d9",
   "metadata": {
    "scrolled": true
   },
   "outputs": [
    {
     "name": "stdout",
     "output_type": "stream",
     "text": [
      "mean average precision = 0.02316\n"
     ]
    }
   ],
   "source": [
    "MAP = np.mean(aps)\n",
    "print(f'mean average precision = {round(MAP, 5)}')"
   ]
  },
  {
   "cell_type": "markdown",
   "id": "ae24ed8a",
   "metadata": {},
   "source": [
    "    The first approach is not bad as we perform better than the proposed baseline, the competition suggested to perform better than a MAP of 0.014, that is the value of the metric obteined if we simply recommend the twenty most popular content during the train quarter (in terms of the number of different profiles that viewed it at least once), filtering previously viewed content."
   ]
  },
  {
   "cell_type": "markdown",
   "id": "5a8c2e2b",
   "metadata": {},
   "source": [
    "# Hyperparameter search\n",
    "## Subsample dataframe to acelerate process of investigation\n",
    "     To perform the final model I will implement all the data."
   ]
  },
  {
   "cell_type": "code",
   "execution_count": 56,
   "id": "ca71f2d1",
   "metadata": {},
   "outputs": [],
   "source": [
    "complete = complete.loc[np.random.choice(complete.index, 30000, replace=False)]\n",
    "complete.to_csv(\"subsample_30000.csv\")"
   ]
  },
  {
   "cell_type": "code",
   "execution_count": 2,
   "id": "7cde71cb",
   "metadata": {},
   "outputs": [],
   "source": [
    "complete2 = pd.read_csv('subsample_30000.csv')\n",
    "\n",
    "complete2[\"tuneout\"]  = pd.to_datetime(complete2[\"tuneout\"] )\n",
    "complete2[\"tunein\"]  = pd.to_datetime(complete2[\"tunein\"] )\n",
    "\n",
    "# Create train and test database as requested\n",
    "train = complete2.loc[(complete2[\"tunein\"] <= \"2021-02-28 23:59:59\")]\n",
    "test = complete2.loc[(complete2[\"tunein\"] > \"2021-02-28 23:59:59\")]\n",
    "\n",
    "# Crate interactions matrix\n",
    "interactions = train[[\"account_id\", \"content_id\", \"rating_pond\"]].drop_duplicates(keep='first')\n",
    "interactions_matrix = interactions.pivot(index=\"account_id\", columns=\"content_id\", values=\"rating_pond\")\n",
    "interactions_matrix = interactions_matrix.fillna(0)\n",
    "interactions_matrix_csr = csr_matrix(interactions_matrix.values)\n",
    "\n",
    "# Create dictionaries for future references\n",
    "user_id = list(interactions_matrix.index)\n",
    "user_dict = {}\n",
    "counter = 0 \n",
    "for i in user_id:\n",
    "    user_dict[i] = counter\n",
    "    counter += 1\n",
    "    \n",
    "item_id = list(interactions_matrix.columns)\n",
    "item_dict = {}\n",
    "counter = 0 \n",
    "for i in item_id:\n",
    "    item_dict[i] = counter\n",
    "    counter += 1"
   ]
  },
  {
   "cell_type": "code",
   "execution_count": 86,
   "id": "097b70e4",
   "metadata": {},
   "outputs": [],
   "source": [
    "def search(learning_rate, n_components, interactions_matrix_csr,interactions_matrix,train,test,popular_content):\n",
    "    # Create dataframe for results:\n",
    "    results = pd.DataFrame(columns = ['Learning Rate', 'N components',\"MAP\"])\n",
    "    for i in learning_rate:\n",
    "        for j in n_components:\n",
    "            # Create collaborative filtering predictive model \n",
    "            model = LightFM(random_state=0,\n",
    "                            loss='warp',\n",
    "                            learning_rate=i,\n",
    "                            no_components=j)\n",
    "\n",
    "            model = model.fit(interactions_matrix_csr,\n",
    "                              epochs=50,\n",
    "                              num_threads=16, verbose=False)\n",
    "            \n",
    "            # Obtain predictions\n",
    "            #define where we are going to store the recommendations\n",
    "            recomms_dict = {\n",
    "                'account_id': [],\n",
    "                'recomms': []\n",
    "            }\n",
    "\n",
    "            #we obtain number of users and number of items\n",
    "            n_users, n_items = interactions_matrix.shape\n",
    "            item_ids = np.arange(n_items)\n",
    "\n",
    "            #for each user of the test dataset, we generate recommendations\n",
    "            for user in tqdm(test.account_id.unique()):\n",
    "\n",
    "                #-----------\n",
    "                # Validate if the user is in the interactions matrix (interactions_matrix.index)\n",
    "                if user in interactions_matrix.index:\n",
    "                #-----------\n",
    "\n",
    "                    # If the user is in train, it is not cold start. We use the model to recommend\n",
    "                    user_x = user_dict[user] #we look for the user's index in the array (we transform id to index)\n",
    "\n",
    "                    #---------------\n",
    "                    # Generate predictions for the user x\n",
    "                    preds = model.predict(user_ids=user_x, item_ids = item_ids)\n",
    "                    #--------------\n",
    "\n",
    "                    #--------------\n",
    "                    # order the predictions from lowest to highest and stay with 30.\n",
    "                    scores = pd.Series(preds)\n",
    "                    scores.index = interactions_matrix.columns\n",
    "                    recomms = list(pd.Series(scores.sort_values(ascending=False).index))[:30] #Retain the first 30\n",
    "                    #--------------\n",
    "\n",
    "                    #--------------\n",
    "                    # Get list of contents previously viewed by the user (in the train set)\n",
    "                    watched_contents = train[(train.account_id==user_x)].content_id.unique()\n",
    "                    #---------------------\n",
    "\n",
    "                    #---------------------\n",
    "                    # Filter contents already viewed\n",
    "                    recomms = [rec for rec in recomms if rec not in watched_contents]\n",
    "                    #--------------------\n",
    "\n",
    "                    # We keep the recommendations in the dictionary\n",
    "                    recomms_dict['account_id'].append(user)\n",
    "                    recomms_dict['recomms'].append(recomms)\n",
    "\n",
    "                    # In this else statement we are going to treat the users that are not in train data (cold start)\n",
    "                else:\n",
    "                    recomms_dict['account_id'].append(user)\n",
    "                    # Recomend most popular content\n",
    "                    recomms_dict['recomms'].append(popular_content)\n",
    "            \n",
    "            # Recomendations to data frame\n",
    "            recomms_df = pd.DataFrame(recomms_dict)\n",
    "            \n",
    "            # Obtain Metrics\n",
    "            # Test set ratings\n",
    "            ideal_recoms = test\\\n",
    "                .sort_values(by=[\"account_id\",\"rating_pond\"], ascending=False)\\\n",
    "                .groupby(\"account_id\", as_index=False)\\\n",
    "                .agg({\"content_id\": \"unique\"})\n",
    "            \n",
    "            df_map = ideal_recoms.merge(recomms_df, how=\"left\", left_on=\"account_id\", right_on=\"account_id\")[[\"account_id\", \"content_id\", \"recomms\"]]\n",
    "            df_map.columns = [\"account_id\", \"ideal\", \"recomms\"]\n",
    "            \n",
    "            # Calculate MAP\n",
    "            aps = [] # empty list to store the AP of each recommendation\n",
    "\n",
    "            for pred, label in df_map[[\"ideal\", \"recomms\"]].values:\n",
    "                n = len(pred) # quantity of recomended elements\n",
    "                arange = np.arange(n, dtype=np.int32) + 1. \n",
    "                rel_k = np.in1d(pred[:n], label) # list of booleans indicating the relevance of each item\n",
    "                tp = np.ones(rel_k.sum(), dtype=np.int32).cumsum() # list with the counter of true positives\n",
    "                denom = arange[rel_k] # positions where the relevant items are located\n",
    "                ap = (tp / denom).sum() / len(label) # average precision\n",
    "                aps.append(ap)\n",
    "                \n",
    "            MAP = np.mean(aps)\n",
    "            result_partial = {\"Learning Rate\":i,\n",
    "                                \"N components\":j,\n",
    "                                \"MAP\":MAP\n",
    "                                }\n",
    "            results = results.append(result_partial, \n",
    "                                            ignore_index = True)\n",
    "    return results"
   ]
  },
  {
   "cell_type": "code",
   "execution_count": 87,
   "id": "1ebfec32",
   "metadata": {
    "scrolled": true
   },
   "outputs": [
    {
     "name": "stderr",
     "output_type": "stream",
     "text": [
      "100%|████████████████████████████████████████████████████████████████████████████| 7988/7988 [00:02<00:00, 3426.44it/s]\n",
      "C:\\Users\\marti\\AppData\\Local\\Temp\\ipykernel_2268\\426492521.py:100: FutureWarning: The frame.append method is deprecated and will be removed from pandas in a future version. Use pandas.concat instead.\n",
      "  results = results.append(result_partial,\n",
      "100%|████████████████████████████████████████████████████████████████████████████| 7988/7988 [00:02<00:00, 3094.81it/s]\n",
      "C:\\Users\\marti\\AppData\\Local\\Temp\\ipykernel_2268\\426492521.py:100: FutureWarning: The frame.append method is deprecated and will be removed from pandas in a future version. Use pandas.concat instead.\n",
      "  results = results.append(result_partial,\n",
      "100%|████████████████████████████████████████████████████████████████████████████| 7988/7988 [00:02<00:00, 2692.41it/s]\n",
      "C:\\Users\\marti\\AppData\\Local\\Temp\\ipykernel_2268\\426492521.py:100: FutureWarning: The frame.append method is deprecated and will be removed from pandas in a future version. Use pandas.concat instead.\n",
      "  results = results.append(result_partial,\n",
      "100%|████████████████████████████████████████████████████████████████████████████| 7988/7988 [00:03<00:00, 2395.83it/s]\n",
      "C:\\Users\\marti\\AppData\\Local\\Temp\\ipykernel_2268\\426492521.py:100: FutureWarning: The frame.append method is deprecated and will be removed from pandas in a future version. Use pandas.concat instead.\n",
      "  results = results.append(result_partial,\n",
      "100%|████████████████████████████████████████████████████████████████████████████| 7988/7988 [00:03<00:00, 2152.08it/s]\n",
      "C:\\Users\\marti\\AppData\\Local\\Temp\\ipykernel_2268\\426492521.py:100: FutureWarning: The frame.append method is deprecated and will be removed from pandas in a future version. Use pandas.concat instead.\n",
      "  results = results.append(result_partial,\n",
      "100%|████████████████████████████████████████████████████████████████████████████| 7988/7988 [00:04<00:00, 1800.67it/s]\n",
      "C:\\Users\\marti\\AppData\\Local\\Temp\\ipykernel_2268\\426492521.py:100: FutureWarning: The frame.append method is deprecated and will be removed from pandas in a future version. Use pandas.concat instead.\n",
      "  results = results.append(result_partial,\n",
      "100%|████████████████████████████████████████████████████████████████████████████| 7988/7988 [00:05<00:00, 1349.74it/s]\n",
      "C:\\Users\\marti\\AppData\\Local\\Temp\\ipykernel_2268\\426492521.py:100: FutureWarning: The frame.append method is deprecated and will be removed from pandas in a future version. Use pandas.concat instead.\n",
      "  results = results.append(result_partial,\n",
      "100%|████████████████████████████████████████████████████████████████████████████| 7988/7988 [00:02<00:00, 3489.86it/s]\n",
      "C:\\Users\\marti\\AppData\\Local\\Temp\\ipykernel_2268\\426492521.py:100: FutureWarning: The frame.append method is deprecated and will be removed from pandas in a future version. Use pandas.concat instead.\n",
      "  results = results.append(result_partial,\n",
      "100%|████████████████████████████████████████████████████████████████████████████| 7988/7988 [00:02<00:00, 3023.77it/s]\n",
      "C:\\Users\\marti\\AppData\\Local\\Temp\\ipykernel_2268\\426492521.py:100: FutureWarning: The frame.append method is deprecated and will be removed from pandas in a future version. Use pandas.concat instead.\n",
      "  results = results.append(result_partial,\n",
      "100%|████████████████████████████████████████████████████████████████████████████| 7988/7988 [00:03<00:00, 2641.63it/s]\n",
      "C:\\Users\\marti\\AppData\\Local\\Temp\\ipykernel_2268\\426492521.py:100: FutureWarning: The frame.append method is deprecated and will be removed from pandas in a future version. Use pandas.concat instead.\n",
      "  results = results.append(result_partial,\n",
      "100%|████████████████████████████████████████████████████████████████████████████| 7988/7988 [00:03<00:00, 2354.57it/s]\n",
      "C:\\Users\\marti\\AppData\\Local\\Temp\\ipykernel_2268\\426492521.py:100: FutureWarning: The frame.append method is deprecated and will be removed from pandas in a future version. Use pandas.concat instead.\n",
      "  results = results.append(result_partial,\n",
      "100%|████████████████████████████████████████████████████████████████████████████| 7988/7988 [00:03<00:00, 2147.55it/s]\n",
      "C:\\Users\\marti\\AppData\\Local\\Temp\\ipykernel_2268\\426492521.py:100: FutureWarning: The frame.append method is deprecated and will be removed from pandas in a future version. Use pandas.concat instead.\n",
      "  results = results.append(result_partial,\n",
      "100%|████████████████████████████████████████████████████████████████████████████| 7988/7988 [00:04<00:00, 1788.60it/s]\n",
      "C:\\Users\\marti\\AppData\\Local\\Temp\\ipykernel_2268\\426492521.py:100: FutureWarning: The frame.append method is deprecated and will be removed from pandas in a future version. Use pandas.concat instead.\n",
      "  results = results.append(result_partial,\n",
      "100%|████████████████████████████████████████████████████████████████████████████| 7988/7988 [00:05<00:00, 1347.46it/s]\n",
      "C:\\Users\\marti\\AppData\\Local\\Temp\\ipykernel_2268\\426492521.py:100: FutureWarning: The frame.append method is deprecated and will be removed from pandas in a future version. Use pandas.concat instead.\n",
      "  results = results.append(result_partial,\n",
      "100%|████████████████████████████████████████████████████████████████████████████| 7988/7988 [00:02<00:00, 3458.16it/s]\n",
      "C:\\Users\\marti\\AppData\\Local\\Temp\\ipykernel_2268\\426492521.py:100: FutureWarning: The frame.append method is deprecated and will be removed from pandas in a future version. Use pandas.concat instead.\n",
      "  results = results.append(result_partial,\n",
      "100%|████████████████████████████████████████████████████████████████████████████| 7988/7988 [00:02<00:00, 2962.48it/s]\n",
      "C:\\Users\\marti\\AppData\\Local\\Temp\\ipykernel_2268\\426492521.py:100: FutureWarning: The frame.append method is deprecated and will be removed from pandas in a future version. Use pandas.concat instead.\n",
      "  results = results.append(result_partial,\n",
      "100%|████████████████████████████████████████████████████████████████████████████| 7988/7988 [00:03<00:00, 2643.59it/s]\n",
      "C:\\Users\\marti\\AppData\\Local\\Temp\\ipykernel_2268\\426492521.py:100: FutureWarning: The frame.append method is deprecated and will be removed from pandas in a future version. Use pandas.concat instead.\n",
      "  results = results.append(result_partial,\n",
      "100%|████████████████████████████████████████████████████████████████████████████| 7988/7988 [00:03<00:00, 2368.30it/s]\n",
      "C:\\Users\\marti\\AppData\\Local\\Temp\\ipykernel_2268\\426492521.py:100: FutureWarning: The frame.append method is deprecated and will be removed from pandas in a future version. Use pandas.concat instead.\n",
      "  results = results.append(result_partial,\n",
      "100%|████████████████████████████████████████████████████████████████████████████| 7988/7988 [00:03<00:00, 2143.19it/s]\n",
      "C:\\Users\\marti\\AppData\\Local\\Temp\\ipykernel_2268\\426492521.py:100: FutureWarning: The frame.append method is deprecated and will be removed from pandas in a future version. Use pandas.concat instead.\n",
      "  results = results.append(result_partial,\n",
      "100%|████████████████████████████████████████████████████████████████████████████| 7988/7988 [00:04<00:00, 1774.39it/s]\n",
      "C:\\Users\\marti\\AppData\\Local\\Temp\\ipykernel_2268\\426492521.py:100: FutureWarning: The frame.append method is deprecated and will be removed from pandas in a future version. Use pandas.concat instead.\n",
      "  results = results.append(result_partial,\n",
      "100%|████████████████████████████████████████████████████████████████████████████| 7988/7988 [00:05<00:00, 1337.16it/s]\n",
      "C:\\Users\\marti\\AppData\\Local\\Temp\\ipykernel_2268\\426492521.py:100: FutureWarning: The frame.append method is deprecated and will be removed from pandas in a future version. Use pandas.concat instead.\n",
      "  results = results.append(result_partial,\n",
      "100%|████████████████████████████████████████████████████████████████████████████| 7988/7988 [00:02<00:00, 3455.86it/s]\n",
      "C:\\Users\\marti\\AppData\\Local\\Temp\\ipykernel_2268\\426492521.py:100: FutureWarning: The frame.append method is deprecated and will be removed from pandas in a future version. Use pandas.concat instead.\n",
      "  results = results.append(result_partial,\n",
      "100%|████████████████████████████████████████████████████████████████████████████| 7988/7988 [00:02<00:00, 3039.48it/s]\n",
      "C:\\Users\\marti\\AppData\\Local\\Temp\\ipykernel_2268\\426492521.py:100: FutureWarning: The frame.append method is deprecated and will be removed from pandas in a future version. Use pandas.concat instead.\n",
      "  results = results.append(result_partial,\n"
     ]
    },
    {
     "name": "stderr",
     "output_type": "stream",
     "text": [
      "100%|████████████████████████████████████████████████████████████████████████████| 7988/7988 [00:03<00:00, 2623.72it/s]\n",
      "C:\\Users\\marti\\AppData\\Local\\Temp\\ipykernel_2268\\426492521.py:100: FutureWarning: The frame.append method is deprecated and will be removed from pandas in a future version. Use pandas.concat instead.\n",
      "  results = results.append(result_partial,\n",
      "100%|████████████████████████████████████████████████████████████████████████████| 7988/7988 [00:03<00:00, 2361.59it/s]\n",
      "C:\\Users\\marti\\AppData\\Local\\Temp\\ipykernel_2268\\426492521.py:100: FutureWarning: The frame.append method is deprecated and will be removed from pandas in a future version. Use pandas.concat instead.\n",
      "  results = results.append(result_partial,\n",
      "100%|████████████████████████████████████████████████████████████████████████████| 7988/7988 [00:03<00:00, 2138.37it/s]\n",
      "C:\\Users\\marti\\AppData\\Local\\Temp\\ipykernel_2268\\426492521.py:100: FutureWarning: The frame.append method is deprecated and will be removed from pandas in a future version. Use pandas.concat instead.\n",
      "  results = results.append(result_partial,\n",
      "100%|████████████████████████████████████████████████████████████████████████████| 7988/7988 [00:04<00:00, 1801.02it/s]\n",
      "C:\\Users\\marti\\AppData\\Local\\Temp\\ipykernel_2268\\426492521.py:100: FutureWarning: The frame.append method is deprecated and will be removed from pandas in a future version. Use pandas.concat instead.\n",
      "  results = results.append(result_partial,\n",
      "100%|████████████████████████████████████████████████████████████████████████████| 7988/7988 [00:05<00:00, 1352.69it/s]\n",
      "C:\\Users\\marti\\AppData\\Local\\Temp\\ipykernel_2268\\426492521.py:100: FutureWarning: The frame.append method is deprecated and will be removed from pandas in a future version. Use pandas.concat instead.\n",
      "  results = results.append(result_partial,\n"
     ]
    }
   ],
   "source": [
    "learning_rate = [0.5,0.1,0.01,0.001]\n",
    "n_components = [10,50,100,150,200,300,500]\n",
    "\n",
    "# Parameters of the function:\n",
    "# Learning rates, number of components, database\n",
    "results = search(learning_rate, n_components, interactions_matrix_csr,interactions_matrix,train,test,popular_content)"
   ]
  },
  {
   "cell_type": "code",
   "execution_count": 92,
   "id": "f18e7118",
   "metadata": {
    "scrolled": false
   },
   "outputs": [
    {
     "data": {
      "text/html": [
       "<div>\n",
       "<style scoped>\n",
       "    .dataframe tbody tr th:only-of-type {\n",
       "        vertical-align: middle;\n",
       "    }\n",
       "\n",
       "    .dataframe tbody tr th {\n",
       "        vertical-align: top;\n",
       "    }\n",
       "\n",
       "    .dataframe thead th {\n",
       "        text-align: right;\n",
       "    }\n",
       "</style>\n",
       "<table border=\"1\" class=\"dataframe\">\n",
       "  <thead>\n",
       "    <tr style=\"text-align: right;\">\n",
       "      <th></th>\n",
       "      <th>Learning Rate</th>\n",
       "      <th>N components</th>\n",
       "      <th>MAP</th>\n",
       "    </tr>\n",
       "  </thead>\n",
       "  <tbody>\n",
       "    <tr>\n",
       "      <th>17</th>\n",
       "      <td>0.01</td>\n",
       "      <td>150.0</td>\n",
       "      <td>0.0106</td>\n",
       "    </tr>\n",
       "    <tr>\n",
       "      <th>19</th>\n",
       "      <td>0.01</td>\n",
       "      <td>300.0</td>\n",
       "      <td>0.010529</td>\n",
       "    </tr>\n",
       "    <tr>\n",
       "      <th>18</th>\n",
       "      <td>0.01</td>\n",
       "      <td>200.0</td>\n",
       "      <td>0.010499</td>\n",
       "    </tr>\n",
       "    <tr>\n",
       "      <th>20</th>\n",
       "      <td>0.01</td>\n",
       "      <td>500.0</td>\n",
       "      <td>0.010481</td>\n",
       "    </tr>\n",
       "    <tr>\n",
       "      <th>16</th>\n",
       "      <td>0.01</td>\n",
       "      <td>100.0</td>\n",
       "      <td>0.010453</td>\n",
       "    </tr>\n",
       "    <tr>\n",
       "      <th>15</th>\n",
       "      <td>0.01</td>\n",
       "      <td>50.0</td>\n",
       "      <td>0.010336</td>\n",
       "    </tr>\n",
       "    <tr>\n",
       "      <th>10</th>\n",
       "      <td>0.1</td>\n",
       "      <td>150.0</td>\n",
       "      <td>0.009875</td>\n",
       "    </tr>\n",
       "    <tr>\n",
       "      <th>14</th>\n",
       "      <td>0.01</td>\n",
       "      <td>10.0</td>\n",
       "      <td>0.009853</td>\n",
       "    </tr>\n",
       "    <tr>\n",
       "      <th>9</th>\n",
       "      <td>0.1</td>\n",
       "      <td>100.0</td>\n",
       "      <td>0.009778</td>\n",
       "    </tr>\n",
       "    <tr>\n",
       "      <th>8</th>\n",
       "      <td>0.1</td>\n",
       "      <td>50.0</td>\n",
       "      <td>0.009776</td>\n",
       "    </tr>\n",
       "  </tbody>\n",
       "</table>\n",
       "</div>"
      ],
      "text/plain": [
       "   Learning Rate N components       MAP\n",
       "17          0.01        150.0    0.0106\n",
       "19          0.01        300.0  0.010529\n",
       "18          0.01        200.0  0.010499\n",
       "20          0.01        500.0  0.010481\n",
       "16          0.01        100.0  0.010453\n",
       "15          0.01         50.0  0.010336\n",
       "10           0.1        150.0  0.009875\n",
       "14          0.01         10.0  0.009853\n",
       "9            0.1        100.0  0.009778\n",
       "8            0.1         50.0  0.009776"
      ]
     },
     "execution_count": 92,
     "metadata": {},
     "output_type": "execute_result"
    }
   ],
   "source": [
    "results.sort_values('MAP', ascending=False).head(10)"
   ]
  },
  {
   "cell_type": "markdown",
   "id": "3882cb15",
   "metadata": {},
   "source": [
    "    The best metrics are obtained with the hyperparameters: \n",
    "* learning rate = 0.01\t\n",
    "* number of components = 150.0\n",
    "    \n",
    "    All the following results in descending order involves the same value of learning rate, in case of popularity bias we will need to train the model with a bigger learning rate. The best model with a bigger learning rate is achived in:\n",
    "* learning rate = 0.1\t\n",
    "* number of components = 150.0"
   ]
  },
  {
   "cell_type": "markdown",
   "id": "3814c10e",
   "metadata": {},
   "source": [
    "# Replacing cold start\n",
    "    \n",
    "    Now I am going to implement a simple classification model for those users that do not belong to the data base. \n",
    "    First of all I need to filter from the training data those users that have been recommended the most popular movies. \n",
    "    I want to know if with a simple classification model I can perform better than in the previous algorithm, but I have one problem, I am only recommending only 1 movie each time we enter with a prediction request. I should investigate how to predict multiple outputs, for future aplications. "
   ]
  },
  {
   "cell_type": "markdown",
   "id": "54055af9",
   "metadata": {},
   "source": [
    "    Filter variables of interest"
   ]
  },
  {
   "cell_type": "code",
   "execution_count": 64,
   "id": "14cc0fa3",
   "metadata": {},
   "outputs": [],
   "source": [
    "train_filt=train.dropna(axis=0)"
   ]
  },
  {
   "cell_type": "code",
   "execution_count": 65,
   "id": "95244f16",
   "metadata": {},
   "outputs": [],
   "source": [
    "train_filt=train_filt[[\"content_id\",'device_type','resume', \"show_type\",'released_year', 'country_of_origin', 'category', 'audience', 'made_for_tv', 'close_caption','sex_rating', 'violence_rating', 'language_rating', 'dialog_rating','fv_rating', 'pay_per_view', 'pack_premium_1', 'pack_premium_2']]"
   ]
  },
  {
   "cell_type": "code",
   "execution_count": 66,
   "id": "1d56140f",
   "metadata": {},
   "outputs": [],
   "source": [
    "y=train_filt[\"content_id\"]"
   ]
  },
  {
   "cell_type": "code",
   "execution_count": 67,
   "id": "6003fb72",
   "metadata": {},
   "outputs": [],
   "source": [
    "X=train_filt[vars]"
   ]
  },
  {
   "cell_type": "markdown",
   "id": "e31880a7",
   "metadata": {},
   "source": [
    "    Encode data to do the classification."
   ]
  },
  {
   "cell_type": "code",
   "execution_count": 68,
   "id": "3291d3ae",
   "metadata": {},
   "outputs": [],
   "source": [
    "labelTransformer = DictVectorizer()\n",
    "data_dict = X.to_dict('records')\n",
    "X_encoded = labelTransformer.fit_transform(data_dict)"
   ]
  },
  {
   "cell_type": "code",
   "execution_count": 69,
   "id": "dfad3c34",
   "metadata": {},
   "outputs": [],
   "source": [
    "# labelTransformer.transform(X.iloc[1].to_dict())"
   ]
  },
  {
   "cell_type": "markdown",
   "id": "e1f34704",
   "metadata": {},
   "source": [
    "    Encode the response variable."
   ]
  },
  {
   "cell_type": "code",
   "execution_count": 70,
   "id": "efe97212",
   "metadata": {},
   "outputs": [],
   "source": [
    "# Fitting Random Forest Classification to the Training set\n",
    "# classifier = RandomForestClassifier(n_estimators = 100, criterion = 'entropy', random_state = 42)\n",
    "# classifier.fit(X_encoded, y)\n",
    "# dump(classifier, 'RandomForestClassification_All.pkl') \n",
    "# Load it\n",
    "classifier = load('RandomForestClassification_All.pkl')"
   ]
  },
  {
   "cell_type": "markdown",
   "id": "b123e61c",
   "metadata": {},
   "source": [
    "    Assess predictions for the last model"
   ]
  },
  {
   "cell_type": "code",
   "execution_count": 107,
   "id": "3d39778f",
   "metadata": {},
   "outputs": [
    {
     "name": "stderr",
     "output_type": "stream",
     "text": [
      "100%|████████████████████████████████████████████████████████████████████████████| 87632/87632 [27:23<00:00, 53.33it/s]\n"
     ]
    }
   ],
   "source": [
    "import random\n",
    "\n",
    "recomms_dict = {\n",
    "    'account_id': [],\n",
    "    'recomms': []\n",
    "}\n",
    "\n",
    "n_users, n_items = interactions_matrix.shape\n",
    "item_ids = np.arange(n_items)\n",
    "\n",
    "for user in tqdm(test.account_id.unique()):\n",
    "\n",
    "    #-----------\n",
    "    if user in interactions_matrix.index:\n",
    "    #-----------\n",
    "\n",
    "        user_x = user_dict[user] \n",
    "\n",
    "        #---------------\n",
    "        preds = colaborative_model.predict(user_ids=user_x, item_ids = item_ids)\n",
    "        #--------------\n",
    "\n",
    "        #--------------\n",
    "        scores = pd.Series(preds)\n",
    "        scores.index = interactions_matrix.columns\n",
    "        recomms = list(pd.Series(scores.sort_values(ascending=False).index))[:30] \n",
    "        #--------------\n",
    "\n",
    "        #--------------\n",
    "        watched_contents = train[(train.account_id==user_x)].content_id.unique()\n",
    "        #---------------------\n",
    "\n",
    "        #---------------------\n",
    "        recomms = [rec for rec in recomms if rec not in watched_contents]\n",
    "        #--------------------\n",
    "\n",
    "        recomms_dict['account_id'].append(user)\n",
    "        recomms_dict['recomms'].append(recomms)\n",
    "\n",
    "    else:\n",
    "        new_user = test[test[\"account_id\"]==user]\n",
    "        # Select variables of interest.\n",
    "        new_user = new_user[['device_type','resume', \"show_type\",'released_year', 'country_of_origin', 'category', 'audience', 'made_for_tv', 'close_caption','sex_rating', 'violence_rating', 'language_rating', 'dialog_rating','fv_rating', 'pay_per_view', 'pack_premium_1', 'pack_premium_2']]\n",
    "        \n",
    "        # If there is no missing data predict with conten based RandomForest Classifier model\n",
    "        # If is missing data predict a random most popular movie.\n",
    "        pred_new_user = []\n",
    "        for row in range(0,new_user.shape[0]):\n",
    "            if new_user.iloc[row].isna().sum().sum() == 0:\n",
    "                new_data = labelTransformer.transform(new_user.iloc[row].to_dict())\n",
    "                pred = classifier.predict(new_data)\n",
    "                pred_new_user.append(pred[0])\n",
    "                \n",
    "            else:\n",
    "                pred_new_user.append(popular_content.iloc[random.randint(0, popular_content.shape[0]-1)])\n",
    "        \n",
    "        if len(pred_new_user) == 1:\n",
    "            pred_new_user.append(popular_content.iloc[random.randint(0, popular_content.shape[0]-1)])\n",
    "            pred_new_user.append(popular_content.iloc[random.randint(0, popular_content.shape[0]-1)])\n",
    "            pred_new_user.append(popular_content.iloc[random.randint(0, popular_content.shape[0]-1)])\n",
    "            pred_new_user.append(popular_content.iloc[random.randint(0, popular_content.shape[0]-1)])\n",
    "        \n",
    "        recomms = [seq[0] for seq in Counter(flat_list).most_common()]\n",
    "        recomms_dict['account_id'].append(user)\n",
    "        recomms_dict['recomms'].append(recomms)"
   ]
  },
  {
   "cell_type": "code",
   "execution_count": 108,
   "id": "e38a49dc",
   "metadata": {},
   "outputs": [],
   "source": [
    "recomms_df = pd.DataFrame(recomms_dict)\n",
    "recomms_df\n",
    "# recomms_df.to_csv(\"Recomendaciones_4toModelo.csv\")"
   ]
  },
  {
   "cell_type": "code",
   "execution_count": 109,
   "id": "421d682c",
   "metadata": {},
   "outputs": [
    {
     "data": {
      "text/html": [
       "<div>\n",
       "<style scoped>\n",
       "    .dataframe tbody tr th:only-of-type {\n",
       "        vertical-align: middle;\n",
       "    }\n",
       "\n",
       "    .dataframe tbody tr th {\n",
       "        vertical-align: top;\n",
       "    }\n",
       "\n",
       "    .dataframe thead th {\n",
       "        text-align: right;\n",
       "    }\n",
       "</style>\n",
       "<table border=\"1\" class=\"dataframe\">\n",
       "  <thead>\n",
       "    <tr style=\"text-align: right;\">\n",
       "      <th></th>\n",
       "      <th>account_id</th>\n",
       "      <th>content_id</th>\n",
       "    </tr>\n",
       "  </thead>\n",
       "  <tbody>\n",
       "    <tr>\n",
       "      <th>0</th>\n",
       "      <td>2</td>\n",
       "      <td>[433.0]</td>\n",
       "    </tr>\n",
       "    <tr>\n",
       "      <th>1</th>\n",
       "      <td>3</td>\n",
       "      <td>[1949.0, 4010.0, 3169.0, 3487.0, 461.0, 4059.0...</td>\n",
       "    </tr>\n",
       "    <tr>\n",
       "      <th>2</th>\n",
       "      <td>4</td>\n",
       "      <td>[513.0, 565.0, 2212.0, 4129.0, 4340.0, 2341.0,...</td>\n",
       "    </tr>\n",
       "    <tr>\n",
       "      <th>3</th>\n",
       "      <td>5</td>\n",
       "      <td>[2259.0]</td>\n",
       "    </tr>\n",
       "    <tr>\n",
       "      <th>4</th>\n",
       "      <td>6</td>\n",
       "      <td>[2900.0, 4065.0, 3211.0, 3386.0, 3388.0, 3902.0]</td>\n",
       "    </tr>\n",
       "  </tbody>\n",
       "</table>\n",
       "</div>"
      ],
      "text/plain": [
       "   account_id                                         content_id\n",
       "0           2                                            [433.0]\n",
       "1           3  [1949.0, 4010.0, 3169.0, 3487.0, 461.0, 4059.0...\n",
       "2           4  [513.0, 565.0, 2212.0, 4129.0, 4340.0, 2341.0,...\n",
       "3           5                                           [2259.0]\n",
       "4           6   [2900.0, 4065.0, 3211.0, 3386.0, 3388.0, 3902.0]"
      ]
     },
     "execution_count": 109,
     "metadata": {},
     "output_type": "execute_result"
    }
   ],
   "source": [
    "# Test set ratings\n",
    "ideal_recoms = test\\\n",
    "    .sort_values(by=[\"account_id\",\"rating_pond\"], ascending=False)\\\n",
    "    .groupby(\"account_id\", as_index=False)\\\n",
    "    .agg({\"content_id\": \"unique\"})\n",
    "ideal_recoms.head()"
   ]
  },
  {
   "cell_type": "code",
   "execution_count": 110,
   "id": "6001b5c6",
   "metadata": {},
   "outputs": [
    {
     "data": {
      "text/html": [
       "<div>\n",
       "<style scoped>\n",
       "    .dataframe tbody tr th:only-of-type {\n",
       "        vertical-align: middle;\n",
       "    }\n",
       "\n",
       "    .dataframe tbody tr th {\n",
       "        vertical-align: top;\n",
       "    }\n",
       "\n",
       "    .dataframe thead th {\n",
       "        text-align: right;\n",
       "    }\n",
       "</style>\n",
       "<table border=\"1\" class=\"dataframe\">\n",
       "  <thead>\n",
       "    <tr style=\"text-align: right;\">\n",
       "      <th></th>\n",
       "      <th>account_id</th>\n",
       "      <th>ideal</th>\n",
       "      <th>recomms</th>\n",
       "    </tr>\n",
       "  </thead>\n",
       "  <tbody>\n",
       "    <tr>\n",
       "      <th>0</th>\n",
       "      <td>2</td>\n",
       "      <td>[433.0]</td>\n",
       "      <td>[3026.0, 2591.0, 3364.0, 2040.0, 1573.0, 1971....</td>\n",
       "    </tr>\n",
       "    <tr>\n",
       "      <th>1</th>\n",
       "      <td>3</td>\n",
       "      <td>[1949.0, 4010.0, 3169.0, 3487.0, 461.0, 4059.0...</td>\n",
       "      <td>[3711.0, 3210.0, 2815.0, 2972.0, 1008.0, 475.0...</td>\n",
       "    </tr>\n",
       "    <tr>\n",
       "      <th>2</th>\n",
       "      <td>4</td>\n",
       "      <td>[513.0, 565.0, 2212.0, 4129.0, 4340.0, 2341.0,...</td>\n",
       "      <td>[3806.0, 3210.0, 2827.0, 173.0, 4366.0, 2815.0...</td>\n",
       "    </tr>\n",
       "    <tr>\n",
       "      <th>3</th>\n",
       "      <td>5</td>\n",
       "      <td>[2259.0]</td>\n",
       "      <td>[3806.0, 3900.0, 3690.0, 3598.0, 2160.0, 2040....</td>\n",
       "    </tr>\n",
       "    <tr>\n",
       "      <th>4</th>\n",
       "      <td>6</td>\n",
       "      <td>[2900.0, 4065.0, 3211.0, 3386.0, 3388.0, 3902.0]</td>\n",
       "      <td>[3716.0, 2040.0, 116.0, 1140.0, 3900.0, 3681.0...</td>\n",
       "    </tr>\n",
       "  </tbody>\n",
       "</table>\n",
       "</div>"
      ],
      "text/plain": [
       "   account_id                                              ideal                                            recomms\n",
       "0           2                                            [433.0]  [3026.0, 2591.0, 3364.0, 2040.0, 1573.0, 1971....\n",
       "1           3  [1949.0, 4010.0, 3169.0, 3487.0, 461.0, 4059.0...  [3711.0, 3210.0, 2815.0, 2972.0, 1008.0, 475.0...\n",
       "2           4  [513.0, 565.0, 2212.0, 4129.0, 4340.0, 2341.0,...  [3806.0, 3210.0, 2827.0, 173.0, 4366.0, 2815.0...\n",
       "3           5                                           [2259.0]  [3806.0, 3900.0, 3690.0, 3598.0, 2160.0, 2040....\n",
       "4           6   [2900.0, 4065.0, 3211.0, 3386.0, 3388.0, 3902.0]  [3716.0, 2040.0, 116.0, 1140.0, 3900.0, 3681.0..."
      ]
     },
     "execution_count": 110,
     "metadata": {},
     "output_type": "execute_result"
    }
   ],
   "source": [
    "df_map = ideal_recoms.merge(recomms_df, how=\"left\", left_on=\"account_id\", right_on=\"account_id\")[[\"account_id\", \"content_id\", \"recomms\"]]\n",
    "df_map.columns = [\"account_id\", \"ideal\", \"recomms\"]\n",
    "df_map.head()"
   ]
  },
  {
   "cell_type": "code",
   "execution_count": 111,
   "id": "ceebb844",
   "metadata": {},
   "outputs": [],
   "source": [
    "aps = []\n",
    "\n",
    "for pred, label in df_map[[\"ideal\", \"recomms\"]].values:\n",
    "    n = len(pred) \n",
    "    arange = np.arange(n, dtype=np.int32) + 1. \n",
    "    rel_k = np.in1d(pred[:n], label) \n",
    "    tp = np.ones(rel_k.sum(), dtype=np.int32).cumsum() \n",
    "    denom = arange[rel_k]\n",
    "    ap = (tp / denom).sum() / len(label) \n",
    "    aps.append(ap)"
   ]
  },
  {
   "cell_type": "code",
   "execution_count": 112,
   "id": "70e774d4",
   "metadata": {},
   "outputs": [
    {
     "name": "stdout",
     "output_type": "stream",
     "text": [
      "mean average precision = 0.02058\n"
     ]
    }
   ],
   "source": [
    "MAP = np.mean(aps)\n",
    "print(f'mean average precision = {round(MAP, 5)}')"
   ]
  },
  {
   "cell_type": "markdown",
   "id": "a4a6e9ee",
   "metadata": {},
   "source": [
    "    The developed model is not better than the one with the cold start, so we are going to fit the final model by joining the results of the hyperparameter search and the model concidering the cold start and interpret its results."
   ]
  },
  {
   "cell_type": "markdown",
   "id": "e7fb1af1",
   "metadata": {},
   "source": [
    "# Final model\n",
    "    \n",
    "* Collaborative filtering + Cold start (Most Popular) + Hyperparameter search."
   ]
  },
  {
   "cell_type": "code",
   "execution_count": 51,
   "id": "b5692e50",
   "metadata": {},
   "outputs": [
    {
     "data": {
      "text/plain": [
       "['final_model.joblib']"
      ]
     },
     "execution_count": 51,
     "metadata": {},
     "output_type": "execute_result"
    }
   ],
   "source": [
    "# Create collaborative filtering predictive model \n",
    "final_model = LightFM(random_state=0,\n",
    "                loss='warp',\n",
    "                learning_rate=0.01,\n",
    "                no_components=150)\n",
    "\n",
    "final_model = final_model.fit(interactions_matrix_csr,\n",
    "                  epochs=100,\n",
    "                  num_threads=16, verbose=False)\n",
    "\n",
    "# Save the model\n",
    "joblib.dump(final_model, \"final_model.joblib\")\n",
    "\n",
    "# Load model once\n",
    "# model: LightFM = joblib.load(\"/model/files/model.joblib\")    "
   ]
  },
  {
   "cell_type": "markdown",
   "id": "246bf7f4",
   "metadata": {},
   "source": [
    "## Predictions"
   ]
  },
  {
   "cell_type": "code",
   "execution_count": 53,
   "id": "2bbb8892",
   "metadata": {},
   "outputs": [
    {
     "name": "stderr",
     "output_type": "stream",
     "text": [
      "100%|███████████████████████████████████████████████████████████████████████████| 78437/78437 [06:45<00:00, 193.46it/s]\n"
     ]
    }
   ],
   "source": [
    "#define where we are going to store the recommendations\n",
    "recomms_dict = {\n",
    "    'account_id': [],\n",
    "    'recomms': []\n",
    "}\n",
    "\n",
    "#we obtain number of users and number of items\n",
    "n_users, n_items = interactions_matrix.shape\n",
    "item_ids = np.arange(n_items)\n",
    "\n",
    "#for each user of the test dataset, we generate recommendations\n",
    "for user in tqdm(test.account_id.unique()):\n",
    "\n",
    "    #-----------\n",
    "    # Validate if the user is in the interactions matrix (interactions_matrix.index)\n",
    "    if user in interactions_matrix.index:\n",
    "    #-----------\n",
    "\n",
    "        # If the user is in train, it is not cold start. We use the model to recommend\n",
    "        user_x = user_dict[user] #we look for the user's index in the array (we transform id to index)\n",
    "\n",
    "        #---------------\n",
    "        # Generate predictions for the user x\n",
    "        preds = final_model.predict(user_ids=user_x, item_ids = item_ids)\n",
    "        #--------------\n",
    "\n",
    "        #--------------\n",
    "        # order the predictions from lowest to highest and stay with 30.\n",
    "        scores = pd.Series(preds)\n",
    "        scores.index = interactions_matrix.columns\n",
    "        recomms = list(pd.Series(scores.sort_values(ascending=False).index))[:30] #Retain the first 30\n",
    "        #--------------\n",
    "\n",
    "        #--------------\n",
    "        # Get list of contents previously viewed by the user (in the train set)\n",
    "        watched_contents = train[(train.account_id==user_x)].content_id.unique()\n",
    "        #---------------------\n",
    "\n",
    "        #---------------------\n",
    "        # Filter contents already viewed\n",
    "        recomms = [rec for rec in recomms if rec not in watched_contents]\n",
    "        #--------------------\n",
    "\n",
    "        # We keep the recommendations in the dictionary\n",
    "        recomms_dict['account_id'].append(user)\n",
    "        recomms_dict['recomms'].append(recomms)\n",
    "\n",
    "        # In this else statement we are going to treat the users that are not in train data (cold start)\n",
    "    else:\n",
    "        recomms_dict['account_id'].append(user)\n",
    "        # Recomend most popular content\n",
    "        recomms_dict['recomms'].append(popular_content)\n"
   ]
  },
  {
   "cell_type": "code",
   "execution_count": 54,
   "id": "e5bbce22",
   "metadata": {},
   "outputs": [],
   "source": [
    "recomms_df = pd.DataFrame(recomms_dict)\n",
    "recomms_df\n",
    "recomms_df.to_csv(\"RecomendationsFinalModel.csv\")"
   ]
  },
  {
   "cell_type": "markdown",
   "id": "5554c409",
   "metadata": {},
   "source": [
    "## Metrics"
   ]
  },
  {
   "cell_type": "code",
   "execution_count": 55,
   "id": "d582fc10",
   "metadata": {},
   "outputs": [
    {
     "name": "stdout",
     "output_type": "stream",
     "text": [
      "mean average precision = 0.0251\n"
     ]
    }
   ],
   "source": [
    "# Test set ratings\n",
    "ideal_recoms = test\\\n",
    "    .sort_values(by=[\"account_id\",\"rating_pond\"], ascending=False)\\\n",
    "    .groupby(\"account_id\", as_index=False)\\\n",
    "    .agg({\"content_id\": \"unique\"})\n",
    "\n",
    "df_map = ideal_recoms.merge(recomms_df, how=\"left\", left_on=\"account_id\", right_on=\"account_id\")[[\"account_id\", \"content_id\", \"recomms\"]]\n",
    "df_map.columns = [\"account_id\", \"ideal\", \"recomms\"]\n",
    "\n",
    "aps = [] # empty list to store the AP of each recommendation\n",
    "\n",
    "for pred, label in df_map[[\"ideal\", \"recomms\"]].values:\n",
    "    n = len(pred) # quantity of recomended elements\n",
    "    arange = np.arange(n, dtype=np.int32) + 1. \n",
    "    rel_k = np.in1d(pred[:n], label) # list of booleans indicating the relevance of each item\n",
    "    tp = np.ones(rel_k.sum(), dtype=np.int32).cumsum() # list with the counter of true positives\n",
    "    denom = arange[rel_k] # positions where the relevant items are located\n",
    "    ap = (tp / denom).sum() / len(label) # average precision\n",
    "    aps.append(ap)\n",
    "    \n",
    "MAP = np.mean(aps)\n",
    "print(f'mean average precision = {round(MAP, 5)}')"
   ]
  },
  {
   "cell_type": "markdown",
   "id": "e6556971",
   "metadata": {},
   "source": [
    "    We can appreciate that the final model get better MAP results. "
   ]
  },
  {
   "cell_type": "markdown",
   "id": "d7ad497f",
   "metadata": {},
   "source": [
    "# Interpretation of results:"
   ]
  },
  {
   "cell_type": "code",
   "execution_count": 56,
   "id": "b98f23fe",
   "metadata": {},
   "outputs": [],
   "source": [
    "res = pd.read_csv('RecomendationsFinalModel.csv')"
   ]
  },
  {
   "cell_type": "code",
   "execution_count": 57,
   "id": "a7b2d3f4",
   "metadata": {},
   "outputs": [],
   "source": [
    "res.columns\n",
    "res=res.drop(['Unnamed: 0'],axis=1)"
   ]
  },
  {
   "cell_type": "code",
   "execution_count": 60,
   "id": "b75b298c",
   "metadata": {
    "scrolled": true
   },
   "outputs": [
    {
     "data": {
      "text/html": [
       "<div>\n",
       "<style scoped>\n",
       "    .dataframe tbody tr th:only-of-type {\n",
       "        vertical-align: middle;\n",
       "    }\n",
       "\n",
       "    .dataframe tbody tr th {\n",
       "        vertical-align: top;\n",
       "    }\n",
       "\n",
       "    .dataframe thead th {\n",
       "        text-align: right;\n",
       "    }\n",
       "</style>\n",
       "<table border=\"1\" class=\"dataframe\">\n",
       "  <thead>\n",
       "    <tr style=\"text-align: right;\">\n",
       "      <th></th>\n",
       "      <th>Account</th>\n",
       "      <th>Count</th>\n",
       "    </tr>\n",
       "  </thead>\n",
       "  <tbody>\n",
       "    <tr>\n",
       "      <th>6862</th>\n",
       "      <td>7107</td>\n",
       "      <td>3100</td>\n",
       "    </tr>\n",
       "    <tr>\n",
       "      <th>96046</th>\n",
       "      <td>99113</td>\n",
       "      <td>1650</td>\n",
       "    </tr>\n",
       "    <tr>\n",
       "      <th>99186</th>\n",
       "      <td>102343</td>\n",
       "      <td>1631</td>\n",
       "    </tr>\n",
       "    <tr>\n",
       "      <th>2935</th>\n",
       "      <td>3042</td>\n",
       "      <td>1463</td>\n",
       "    </tr>\n",
       "    <tr>\n",
       "      <th>81905</th>\n",
       "      <td>84543</td>\n",
       "      <td>1389</td>\n",
       "    </tr>\n",
       "  </tbody>\n",
       "</table>\n",
       "</div>"
      ],
      "text/plain": [
       "       Account  Count\n",
       "6862      7107   3100\n",
       "96046    99113   1650\n",
       "99186   102343   1631\n",
       "2935      3042   1463\n",
       "81905    84543   1389"
      ]
     },
     "metadata": {},
     "output_type": "display_data"
    }
   ],
   "source": [
    "exp=complete[['account_id','ones']]\n",
    "exp=exp.groupby('account_id', as_index=False).agg({'ones':\"count\"}).sort_values(by='ones',ascending=False)\n",
    "exp.columns=[\"Account\",\"Count\"]\n",
    "display(exp.head())"
   ]
  },
  {
   "cell_type": "markdown",
   "id": "8b0e4165",
   "metadata": {},
   "source": [
    "### Account_id == 7107"
   ]
  },
  {
   "cell_type": "code",
   "execution_count": 61,
   "id": "984dc767",
   "metadata": {},
   "outputs": [],
   "source": [
    "df_filt = complete[complete[\"account_id\"]==7107]"
   ]
  },
  {
   "cell_type": "markdown",
   "id": "62144e03",
   "metadata": {},
   "source": [
    "    Select account_id = 7107 the user that most products have watched."
   ]
  },
  {
   "cell_type": "code",
   "execution_count": 62,
   "id": "41a9e603",
   "metadata": {
    "scrolled": true
   },
   "outputs": [
    {
     "data": {
      "text/html": [
       "<div>\n",
       "<style scoped>\n",
       "    .dataframe tbody tr th:only-of-type {\n",
       "        vertical-align: middle;\n",
       "    }\n",
       "\n",
       "    .dataframe tbody tr th {\n",
       "        vertical-align: top;\n",
       "    }\n",
       "\n",
       "    .dataframe thead th {\n",
       "        text-align: right;\n",
       "    }\n",
       "</style>\n",
       "<table border=\"1\" class=\"dataframe\">\n",
       "  <thead>\n",
       "    <tr style=\"text-align: right;\">\n",
       "      <th></th>\n",
       "      <th>Category</th>\n",
       "      <th>Rating</th>\n",
       "      <th>Count</th>\n",
       "    </tr>\n",
       "  </thead>\n",
       "  <tbody>\n",
       "    <tr>\n",
       "      <th>4</th>\n",
       "      <td>Infantil/Dibujos Animados</td>\n",
       "      <td>0.999274</td>\n",
       "      <td>3055</td>\n",
       "    </tr>\n",
       "    <tr>\n",
       "      <th>2</th>\n",
       "      <td>Infantil</td>\n",
       "      <td>1.000000</td>\n",
       "      <td>40</td>\n",
       "    </tr>\n",
       "    <tr>\n",
       "      <th>1</th>\n",
       "      <td>Entretenimiento/Música</td>\n",
       "      <td>0.304426</td>\n",
       "      <td>3</td>\n",
       "    </tr>\n",
       "    <tr>\n",
       "      <th>0</th>\n",
       "      <td>Comedia</td>\n",
       "      <td>0.681818</td>\n",
       "      <td>1</td>\n",
       "    </tr>\n",
       "    <tr>\n",
       "      <th>3</th>\n",
       "      <td>Infantil/Animación</td>\n",
       "      <td>1.000000</td>\n",
       "      <td>1</td>\n",
       "    </tr>\n",
       "  </tbody>\n",
       "</table>\n",
       "</div>"
      ],
      "text/plain": [
       "                    Category    Rating  Count\n",
       "4  Infantil/Dibujos Animados  0.999274   3055\n",
       "2                   Infantil  1.000000     40\n",
       "1     Entretenimiento/Música  0.304426      3\n",
       "0                    Comedia  0.681818      1\n",
       "3         Infantil/Animación  1.000000      1"
      ]
     },
     "metadata": {},
     "output_type": "display_data"
    }
   ],
   "source": [
    "variable = 'category'\n",
    "variable_name = \"Category\"\n",
    "exp=df_filt[[variable,'rating_pond','ones']]\n",
    "exp=exp.groupby(variable, as_index=False).agg({'rating_pond': \"mean\", 'ones':\"count\"}).sort_values(by= 'ones',ascending=False)\n",
    "exp.columns=[variable_name, \"Rating\",\"Count\"]\n",
    "display(exp.head(5))"
   ]
  },
  {
   "cell_type": "markdown",
   "id": "f66b6550",
   "metadata": {},
   "source": [
    "    The selected user likes to  content for children."
   ]
  },
  {
   "cell_type": "code",
   "execution_count": 63,
   "id": "df2a13af",
   "metadata": {
    "scrolled": false
   },
   "outputs": [
    {
     "data": {
      "text/plain": [
       "array(['[2160.0, 1139.0, 1316.0, 712.0, 20.0, 704.0, 684.0, 8.0, 45.0, 680.0, 304.0, 18.0, 2163.0, 106.0, 607.0, 55.0, 924.0, 2307.0, 2172.0, 558.0, 637.0, 641.0, 112.0, 2133.0, 914.0, 194.0, 496.0, 654.0, 491.0, 1803.0]'],\n",
       "      dtype=object)"
      ]
     },
     "execution_count": 63,
     "metadata": {},
     "output_type": "execute_result"
    }
   ],
   "source": [
    "res[res[\"account_id\"]==7107].recomms.values"
   ]
  },
  {
   "cell_type": "code",
   "execution_count": 69,
   "id": "f474fbc1",
   "metadata": {
    "scrolled": true
   },
   "outputs": [
    {
     "data": {
      "text/html": [
       "<div>\n",
       "<style scoped>\n",
       "    .dataframe tbody tr th:only-of-type {\n",
       "        vertical-align: middle;\n",
       "    }\n",
       "\n",
       "    .dataframe tbody tr th {\n",
       "        vertical-align: top;\n",
       "    }\n",
       "\n",
       "    .dataframe thead th {\n",
       "        text-align: right;\n",
       "    }\n",
       "</style>\n",
       "<table border=\"1\" class=\"dataframe\">\n",
       "  <thead>\n",
       "    <tr style=\"text-align: right;\">\n",
       "      <th></th>\n",
       "      <th>content_id</th>\n",
       "      <th>popularity</th>\n",
       "    </tr>\n",
       "  </thead>\n",
       "  <tbody>\n",
       "    <tr>\n",
       "      <th>1764</th>\n",
       "      <td>2040.0</td>\n",
       "      <td>13629</td>\n",
       "    </tr>\n",
       "    <tr>\n",
       "      <th>3515</th>\n",
       "      <td>3806.0</td>\n",
       "      <td>9377</td>\n",
       "    </tr>\n",
       "    <tr>\n",
       "      <th>3609</th>\n",
       "      <td>3900.0</td>\n",
       "      <td>9082</td>\n",
       "    </tr>\n",
       "    <tr>\n",
       "      <th>3839</th>\n",
       "      <td>4133.0</td>\n",
       "      <td>8722</td>\n",
       "    </tr>\n",
       "    <tr>\n",
       "      <th>1707</th>\n",
       "      <td>1983.0</td>\n",
       "      <td>6695</td>\n",
       "    </tr>\n",
       "    <tr>\n",
       "      <th>603</th>\n",
       "      <td>729.0</td>\n",
       "      <td>5161</td>\n",
       "    </tr>\n",
       "    <tr>\n",
       "      <th>2658</th>\n",
       "      <td>2942.0</td>\n",
       "      <td>4863</td>\n",
       "    </tr>\n",
       "    <tr>\n",
       "      <th>2925</th>\n",
       "      <td>3210.0</td>\n",
       "      <td>4564</td>\n",
       "    </tr>\n",
       "    <tr>\n",
       "      <th>3096</th>\n",
       "      <td>3381.0</td>\n",
       "      <td>4527</td>\n",
       "    </tr>\n",
       "    <tr>\n",
       "      <th>1882</th>\n",
       "      <td>2160.0</td>\n",
       "      <td>4506</td>\n",
       "    </tr>\n",
       "  </tbody>\n",
       "</table>\n",
       "</div>"
      ],
      "text/plain": [
       "      content_id  popularity\n",
       "1764      2040.0       13629\n",
       "3515      3806.0        9377\n",
       "3609      3900.0        9082\n",
       "3839      4133.0        8722\n",
       "1707      1983.0        6695\n",
       "603        729.0        5161\n",
       "2658      2942.0        4863\n",
       "2925      3210.0        4564\n",
       "3096      3381.0        4527\n",
       "1882      2160.0        4506"
      ]
     },
     "execution_count": 69,
     "metadata": {},
     "output_type": "execute_result"
    }
   ],
   "source": [
    "popularity_df.head(10)"
   ]
  },
  {
   "cell_type": "markdown",
   "id": "2f8ef739",
   "metadata": {},
   "source": [
    "    By comparing the popular content with the recomendations for the user 7107, we can see that we are not in trouble of a popularity bias problem. "
   ]
  },
  {
   "cell_type": "code",
   "execution_count": 70,
   "id": "486a0bd8",
   "metadata": {},
   "outputs": [],
   "source": [
    "recomendations = [2160.0, 1139.0, 1316.0, 712.0, 20.0, 704.0, 684.0, 8.0, 45.0, 680.0, 304.0, 18.0, 2163.0, 106.0, 607.0, 55.0, 924.0, 2307.0, 2172.0, 558.0, 637.0, 641.0, 112.0, 2133.0, 914.0, 194.0, 496.0, 654.0, 491.0, 1803.0]"
   ]
  },
  {
   "cell_type": "code",
   "execution_count": 71,
   "id": "48c0a35b",
   "metadata": {},
   "outputs": [],
   "source": [
    "movies=[]\n",
    "for i,x in enumerate(recomendations):\n",
    "    movies.append(metadata[metadata[\"content_id\"]==x].title.iloc[0])"
   ]
  },
  {
   "cell_type": "code",
   "execution_count": 72,
   "id": "a607784a",
   "metadata": {},
   "outputs": [
    {
     "data": {
      "text/plain": [
       "['T:1 Ep:01 Paw Patrol, Patrulla Canina',\n",
       " 'T:1 Ep:36 Bluey',\n",
       " 'T:8 Ep:40 Peppa Pig',\n",
       " 'T:1 Ep:43 T.O.T.S. Tiny Ones Transfer Service',\n",
       " 'T:2 Ep:73 Puppy Dog Pals',\n",
       " 'T:1 Ep:30 Mira: La detective del reino',\n",
       " 'T:2 Ep:50 Muppet Babies',\n",
       " 'T:1 Ep:05 Mickey: Aventuras sobre ruedas',\n",
       " 'T:3 Ep:74 Doctora Juguetes',\n",
       " 'T:2 Ep:65 Vampirina',\n",
       " 'T:1 Ep:01 La Granja de Zenón',\n",
       " 'T:1 Ep:21 PJ Masks: Héroes en pijamas',\n",
       " 'T:1 Ep:01 Gallina Pintadita Mini',\n",
       " 'T:1 Ep:08 Rocketeer',\n",
       " 'La Granja de Zenón 4 Mix',\n",
       " 'T:4 Ep:120 La casa de Mickey Mouse',\n",
       " 'T:2 Ep:20 Mini Beat Power Rockers',\n",
       " 'T:1 Ep:02 Los Polos',\n",
       " 'T:1 Ep:01 Gallina Pintadita Collections',\n",
       " 'T:5 Ep:110 Junior Express',\n",
       " 'T:1 Ep:19 Fancy Nancy Clancy',\n",
       " 'T:2 Ep:39 Nivis: Amigos de otro mundo',\n",
       " 'T:3 Ep:76 Elena de Avalor',\n",
       " 'T:1 Ep:01 Ranger Rob',\n",
       " 'T:2 Ep:08 Mickey Mouse',\n",
       " 'T:2 Ep:50 La Guardia del León',\n",
       " 'T:4 Ep:01 Canciones del Zoo',\n",
       " 'T:1 Ep:13 Calle Dálmatas 101',\n",
       " 'T:1 Ep:01 La Granja de Zenón: La Serie',\n",
       " 'T:2 Ep:01 44 Gatos']"
      ]
     },
     "execution_count": 72,
     "metadata": {},
     "output_type": "execute_result"
    }
   ],
   "source": [
    "movies"
   ]
  },
  {
   "cell_type": "markdown",
   "id": "84302936",
   "metadata": {},
   "source": [
    "    We can see that the recommended stuff are movies and series for children. "
   ]
  },
  {
   "cell_type": "markdown",
   "id": "9b1fcd59",
   "metadata": {},
   "source": [
    "### Account_id == 99113"
   ]
  },
  {
   "cell_type": "code",
   "execution_count": 73,
   "id": "0be536d4",
   "metadata": {},
   "outputs": [],
   "source": [
    "df_filt = complete[complete[\"account_id\"]==99113]"
   ]
  },
  {
   "cell_type": "code",
   "execution_count": 74,
   "id": "1e13c05f",
   "metadata": {
    "scrolled": true
   },
   "outputs": [
    {
     "data": {
      "text/html": [
       "<div>\n",
       "<style scoped>\n",
       "    .dataframe tbody tr th:only-of-type {\n",
       "        vertical-align: middle;\n",
       "    }\n",
       "\n",
       "    .dataframe tbody tr th {\n",
       "        vertical-align: top;\n",
       "    }\n",
       "\n",
       "    .dataframe thead th {\n",
       "        text-align: right;\n",
       "    }\n",
       "</style>\n",
       "<table border=\"1\" class=\"dataframe\">\n",
       "  <thead>\n",
       "    <tr style=\"text-align: right;\">\n",
       "      <th></th>\n",
       "      <th>Category</th>\n",
       "      <th>Rating</th>\n",
       "      <th>Count</th>\n",
       "    </tr>\n",
       "  </thead>\n",
       "  <tbody>\n",
       "    <tr>\n",
       "      <th>19</th>\n",
       "      <td>Infantil/Dibujos Animados</td>\n",
       "      <td>0.996345</td>\n",
       "      <td>899</td>\n",
       "    </tr>\n",
       "    <tr>\n",
       "      <th>18</th>\n",
       "      <td>Infantil/Comedia</td>\n",
       "      <td>1.000000</td>\n",
       "      <td>389</td>\n",
       "    </tr>\n",
       "    <tr>\n",
       "      <th>16</th>\n",
       "      <td>Infantil</td>\n",
       "      <td>0.989309</td>\n",
       "      <td>122</td>\n",
       "    </tr>\n",
       "    <tr>\n",
       "      <th>1</th>\n",
       "      <td>Acción/Aventura</td>\n",
       "      <td>0.974261</td>\n",
       "      <td>115</td>\n",
       "    </tr>\n",
       "    <tr>\n",
       "      <th>17</th>\n",
       "      <td>Infantil/Animación</td>\n",
       "      <td>0.891025</td>\n",
       "      <td>58</td>\n",
       "    </tr>\n",
       "  </tbody>\n",
       "</table>\n",
       "</div>"
      ],
      "text/plain": [
       "                     Category    Rating  Count\n",
       "19  Infantil/Dibujos Animados  0.996345    899\n",
       "18           Infantil/Comedia  1.000000    389\n",
       "16                   Infantil  0.989309    122\n",
       "1             Acción/Aventura  0.974261    115\n",
       "17         Infantil/Animación  0.891025     58"
      ]
     },
     "metadata": {},
     "output_type": "display_data"
    }
   ],
   "source": [
    "variable = 'category'\n",
    "variable_name = \"Category\"\n",
    "exp=df_filt[[variable,'rating_pond','ones']]\n",
    "exp=exp.groupby(variable, as_index=False).agg({'rating_pond': \"mean\", 'ones':\"count\"}).sort_values(by= 'ones',ascending=False)\n",
    "exp.columns=[variable_name, \"Rating\",\"Count\"]\n",
    "display(exp.head(5))"
   ]
  },
  {
   "cell_type": "markdown",
   "id": "9fe1998d",
   "metadata": {},
   "source": [
    "    The selected user likes to  content for children."
   ]
  },
  {
   "cell_type": "code",
   "execution_count": 75,
   "id": "f70493a3",
   "metadata": {
    "scrolled": false
   },
   "outputs": [
    {
     "data": {
      "text/plain": [
       "array(['[1139.0, 680.0, 3572.0, 558.0, 1483.0, 36.0, 20.0, 1508.0, 38.0, 3389.0, 3361.0, 71.0, 2160.0, 304.0, 1503.0, 3516.0, 3497.0, 1830.0, 894.0, 37.0, 704.0, 712.0, 1500.0, 18.0, 3292.0, 3847.0, 194.0, 1505.0, 1152.0]'],\n",
       "      dtype=object)"
      ]
     },
     "execution_count": 75,
     "metadata": {},
     "output_type": "execute_result"
    }
   ],
   "source": [
    "res[res[\"account_id\"]==99113].recomms.values"
   ]
  },
  {
   "cell_type": "code",
   "execution_count": 76,
   "id": "6c1220cf",
   "metadata": {
    "scrolled": true
   },
   "outputs": [
    {
     "data": {
      "text/html": [
       "<div>\n",
       "<style scoped>\n",
       "    .dataframe tbody tr th:only-of-type {\n",
       "        vertical-align: middle;\n",
       "    }\n",
       "\n",
       "    .dataframe tbody tr th {\n",
       "        vertical-align: top;\n",
       "    }\n",
       "\n",
       "    .dataframe thead th {\n",
       "        text-align: right;\n",
       "    }\n",
       "</style>\n",
       "<table border=\"1\" class=\"dataframe\">\n",
       "  <thead>\n",
       "    <tr style=\"text-align: right;\">\n",
       "      <th></th>\n",
       "      <th>content_id</th>\n",
       "      <th>popularity</th>\n",
       "    </tr>\n",
       "  </thead>\n",
       "  <tbody>\n",
       "    <tr>\n",
       "      <th>1764</th>\n",
       "      <td>2040.0</td>\n",
       "      <td>13629</td>\n",
       "    </tr>\n",
       "    <tr>\n",
       "      <th>3515</th>\n",
       "      <td>3806.0</td>\n",
       "      <td>9377</td>\n",
       "    </tr>\n",
       "    <tr>\n",
       "      <th>3609</th>\n",
       "      <td>3900.0</td>\n",
       "      <td>9082</td>\n",
       "    </tr>\n",
       "    <tr>\n",
       "      <th>3839</th>\n",
       "      <td>4133.0</td>\n",
       "      <td>8722</td>\n",
       "    </tr>\n",
       "    <tr>\n",
       "      <th>1707</th>\n",
       "      <td>1983.0</td>\n",
       "      <td>6695</td>\n",
       "    </tr>\n",
       "    <tr>\n",
       "      <th>603</th>\n",
       "      <td>729.0</td>\n",
       "      <td>5161</td>\n",
       "    </tr>\n",
       "    <tr>\n",
       "      <th>2658</th>\n",
       "      <td>2942.0</td>\n",
       "      <td>4863</td>\n",
       "    </tr>\n",
       "    <tr>\n",
       "      <th>2925</th>\n",
       "      <td>3210.0</td>\n",
       "      <td>4564</td>\n",
       "    </tr>\n",
       "    <tr>\n",
       "      <th>3096</th>\n",
       "      <td>3381.0</td>\n",
       "      <td>4527</td>\n",
       "    </tr>\n",
       "    <tr>\n",
       "      <th>1882</th>\n",
       "      <td>2160.0</td>\n",
       "      <td>4506</td>\n",
       "    </tr>\n",
       "  </tbody>\n",
       "</table>\n",
       "</div>"
      ],
      "text/plain": [
       "      content_id  popularity\n",
       "1764      2040.0       13629\n",
       "3515      3806.0        9377\n",
       "3609      3900.0        9082\n",
       "3839      4133.0        8722\n",
       "1707      1983.0        6695\n",
       "603        729.0        5161\n",
       "2658      2942.0        4863\n",
       "2925      3210.0        4564\n",
       "3096      3381.0        4527\n",
       "1882      2160.0        4506"
      ]
     },
     "execution_count": 76,
     "metadata": {},
     "output_type": "execute_result"
    }
   ],
   "source": [
    "popularity_df.head(10)"
   ]
  },
  {
   "cell_type": "code",
   "execution_count": 77,
   "id": "b8025db5",
   "metadata": {},
   "outputs": [],
   "source": [
    "recomendations =[1139.0, 680.0, 3572.0, 558.0, 1483.0, 36.0, 20.0, 1508.0, 38.0, 3389.0, 3361.0, 71.0, 2160.0, 304.0, 1503.0, 3516.0, 3497.0, 1830.0, 894.0, 37.0, 704.0, 712.0, 1500.0, 18.0, 3292.0, 3847.0, 194.0, 1505.0, 1152.0]"
   ]
  },
  {
   "cell_type": "markdown",
   "id": "a4d7b889",
   "metadata": {},
   "source": [
    "    By comparing the popular content with the recomendations for the user 7107, we can see that we are not in trouble of a popularity bias problem.     "
   ]
  },
  {
   "cell_type": "code",
   "execution_count": 78,
   "id": "b6e54b4f",
   "metadata": {},
   "outputs": [],
   "source": [
    "movies=[]\n",
    "for i,x in enumerate(recomendations):\n",
    "    movies.append(metadata[metadata[\"content_id\"]==x].title.iloc[0])"
   ]
  },
  {
   "cell_type": "code",
   "execution_count": 79,
   "id": "0784261c",
   "metadata": {
    "scrolled": false
   },
   "outputs": [
    {
     "data": {
      "text/plain": [
       "['T:1 Ep:36 Bluey',\n",
       " 'T:2 Ep:65 Vampirina',\n",
       " 'El árbol de los deseos',\n",
       " 'T:5 Ep:110 Junior Express',\n",
       " 'Cigüeñas: La historia que no te contaron',\n",
       " 'Madagascar 3: Los fugitivos',\n",
       " 'T:2 Ep:73 Puppy Dog Pals',\n",
       " 'Lluvia de hamburguesas 2',\n",
       " 'Madagascar 2: Escape a África',\n",
       " 'Animales al ataque',\n",
       " 'Tarzán: La evolución de la leyenda',\n",
       " 'Lluvia de hamburguesas',\n",
       " 'T:1 Ep:01 Paw Patrol, Patrulla Canina',\n",
       " 'T:1 Ep:01 La Granja de Zenón',\n",
       " '¿Y dónde están las rubias...?',\n",
       " 'Wombat al combate',\n",
       " 'Un Monstruo en Paris',\n",
       " '16 Deseos',\n",
       " 'T:4 Ep:239 El Show Tom & Jerry',\n",
       " 'Madagascar',\n",
       " 'T:1 Ep:30 Mira: La detective del reino',\n",
       " 'T:1 Ep:43 T.O.T.S. Tiny Ones Transfer Service',\n",
       " 'Pixels',\n",
       " 'T:1 Ep:21 PJ Masks: Héroes en pijamas',\n",
       " 'Escandalosos: La película',\n",
       " 'Descendientes',\n",
       " 'T:2 Ep:50 La Guardia del León',\n",
       " 'Godzilla',\n",
       " 'Las aventuras de Sharkboy y Lavagirl']"
      ]
     },
     "execution_count": 79,
     "metadata": {},
     "output_type": "execute_result"
    }
   ],
   "source": [
    "movies"
   ]
  },
  {
   "cell_type": "markdown",
   "id": "997e6845",
   "metadata": {},
   "source": [
    "    We can see that the recommended stuff are movies and series for children. \n",
    "    \n",
    "    In conclusion the results of the predictions of the model are very accurate. In case we have had a popularity bias problem the solution could have been to increment the learning rate, so as to perform a more superficial learning, this would have improve the recomendations and drop the popular content from the predictions. "
   ]
  }
 ],
 "metadata": {
  "kernelspec": {
   "display_name": "Python 3.9.13 ('ml-course')",
   "language": "python",
   "name": "python3"
  },
  "language_info": {
   "codemirror_mode": {
    "name": "ipython",
    "version": 3
   },
   "file_extension": ".py",
   "mimetype": "text/x-python",
   "name": "python",
   "nbconvert_exporter": "python",
   "pygments_lexer": "ipython3",
   "version": "3.9.13"
  },
  "vscode": {
   "interpreter": {
    "hash": "01be8d091292fd149de7e6b1d36701349e6795ad56fd814c98a7c335e372b952"
   }
  }
 },
 "nbformat": 4,
 "nbformat_minor": 5
}
